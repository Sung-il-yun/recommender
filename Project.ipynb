{
 "cells": [
  {
   "cell_type": "markdown",
   "metadata": {},
   "source": [
    "# 내용기반 추천 시스템"
   ]
  },
  {
   "cell_type": "code",
   "execution_count": 426,
   "metadata": {},
   "outputs": [],
   "source": [
    "import pandas as pd"
   ]
  },
  {
   "cell_type": "code",
   "execution_count": 440,
   "metadata": {},
   "outputs": [],
   "source": [
    "metadata = pd.read_csv('boardgamegeek-reviews/games_detailed_info.csv')"
   ]
  },
  {
   "cell_type": "code",
   "execution_count": 441,
   "metadata": {},
   "outputs": [
    {
     "data": {
      "text/html": [
       "<div>\n",
       "<style scoped>\n",
       "    .dataframe tbody tr th:only-of-type {\n",
       "        vertical-align: middle;\n",
       "    }\n",
       "\n",
       "    .dataframe tbody tr th {\n",
       "        vertical-align: top;\n",
       "    }\n",
       "\n",
       "    .dataframe thead th {\n",
       "        text-align: right;\n",
       "    }\n",
       "</style>\n",
       "<table border=\"1\" class=\"dataframe\">\n",
       "  <thead>\n",
       "    <tr style=\"text-align: right;\">\n",
       "      <th></th>\n",
       "      <th>Unnamed: 0</th>\n",
       "      <th>Abstract Game Rank</th>\n",
       "      <th>Accessory Rank</th>\n",
       "      <th>Amiga Rank</th>\n",
       "      <th>Arcade Rank</th>\n",
       "      <th>Atari ST Rank</th>\n",
       "      <th>Board Game Rank</th>\n",
       "      <th>Children's Game Rank</th>\n",
       "      <th>Commodore 64 Rank</th>\n",
       "      <th>Customizable Rank</th>\n",
       "      <th>...</th>\n",
       "      <th>suggested_language_dependence</th>\n",
       "      <th>suggested_num_players</th>\n",
       "      <th>suggested_playerage</th>\n",
       "      <th>thumbnail</th>\n",
       "      <th>trading</th>\n",
       "      <th>type</th>\n",
       "      <th>usersrated</th>\n",
       "      <th>wanting</th>\n",
       "      <th>wishing</th>\n",
       "      <th>yearpublished</th>\n",
       "    </tr>\n",
       "  </thead>\n",
       "  <tbody>\n",
       "    <tr>\n",
       "      <th>0</th>\n",
       "      <td>0</td>\n",
       "      <td>NaN</td>\n",
       "      <td>NaN</td>\n",
       "      <td>NaN</td>\n",
       "      <td>NaN</td>\n",
       "      <td>NaN</td>\n",
       "      <td>327</td>\n",
       "      <td>NaN</td>\n",
       "      <td>NaN</td>\n",
       "      <td>NaN</td>\n",
       "      <td>...</td>\n",
       "      <td>[OrderedDict([('@level', '36'), ('@value', 'No...</td>\n",
       "      <td>[OrderedDict([('@numplayers', '1'), ('result',...</td>\n",
       "      <td>[OrderedDict([('@value', '2'), ('@numvotes', '...</td>\n",
       "      <td>https://cf.geekdo-images.com/thumb/img/g8LvJsd...</td>\n",
       "      <td>1685</td>\n",
       "      <td>boardgame</td>\n",
       "      <td>85332</td>\n",
       "      <td>453</td>\n",
       "      <td>4729</td>\n",
       "      <td>1995</td>\n",
       "    </tr>\n",
       "    <tr>\n",
       "      <th>1</th>\n",
       "      <td>1</td>\n",
       "      <td>NaN</td>\n",
       "      <td>NaN</td>\n",
       "      <td>NaN</td>\n",
       "      <td>NaN</td>\n",
       "      <td>NaN</td>\n",
       "      <td>151</td>\n",
       "      <td>NaN</td>\n",
       "      <td>NaN</td>\n",
       "      <td>NaN</td>\n",
       "      <td>...</td>\n",
       "      <td>[OrderedDict([('@level', '1'), ('@value', 'No ...</td>\n",
       "      <td>[OrderedDict([('@numplayers', '1'), ('result',...</td>\n",
       "      <td>[OrderedDict([('@value', '2'), ('@numvotes', '...</td>\n",
       "      <td>https://cf.geekdo-images.com/thumb/img/kqE4YJS...</td>\n",
       "      <td>1477</td>\n",
       "      <td>boardgame</td>\n",
       "      <td>85052</td>\n",
       "      <td>498</td>\n",
       "      <td>5403</td>\n",
       "      <td>2000</td>\n",
       "    </tr>\n",
       "    <tr>\n",
       "      <th>2</th>\n",
       "      <td>2</td>\n",
       "      <td>NaN</td>\n",
       "      <td>NaN</td>\n",
       "      <td>NaN</td>\n",
       "      <td>NaN</td>\n",
       "      <td>NaN</td>\n",
       "      <td>74</td>\n",
       "      <td>NaN</td>\n",
       "      <td>NaN</td>\n",
       "      <td>NaN</td>\n",
       "      <td>...</td>\n",
       "      <td>[OrderedDict([('@level', '21'), ('@value', 'No...</td>\n",
       "      <td>[OrderedDict([('@numplayers', '1'), ('result',...</td>\n",
       "      <td>[OrderedDict([('@value', '2'), ('@numvotes', '...</td>\n",
       "      <td>https://cf.geekdo-images.com/thumb/img/HEKrtpT...</td>\n",
       "      <td>1977</td>\n",
       "      <td>boardgame</td>\n",
       "      <td>83486</td>\n",
       "      <td>614</td>\n",
       "      <td>7655</td>\n",
       "      <td>2008</td>\n",
       "    </tr>\n",
       "    <tr>\n",
       "      <th>3</th>\n",
       "      <td>3</td>\n",
       "      <td>NaN</td>\n",
       "      <td>NaN</td>\n",
       "      <td>NaN</td>\n",
       "      <td>NaN</td>\n",
       "      <td>NaN</td>\n",
       "      <td>45</td>\n",
       "      <td>NaN</td>\n",
       "      <td>NaN</td>\n",
       "      <td>NaN</td>\n",
       "      <td>...</td>\n",
       "      <td>[OrderedDict([('@level', '1'), ('@value', 'No ...</td>\n",
       "      <td>[OrderedDict([('@numplayers', '1'), ('result',...</td>\n",
       "      <td>[OrderedDict([('@value', '2'), ('@numvotes', '...</td>\n",
       "      <td>https://cf.geekdo-images.com/thumb/img/Grz-qM9...</td>\n",
       "      <td>1162</td>\n",
       "      <td>boardgame</td>\n",
       "      <td>69132</td>\n",
       "      <td>1029</td>\n",
       "      <td>9464</td>\n",
       "      <td>2010</td>\n",
       "    </tr>\n",
       "    <tr>\n",
       "      <th>4</th>\n",
       "      <td>4</td>\n",
       "      <td>NaN</td>\n",
       "      <td>NaN</td>\n",
       "      <td>NaN</td>\n",
       "      <td>NaN</td>\n",
       "      <td>NaN</td>\n",
       "      <td>76</td>\n",
       "      <td>NaN</td>\n",
       "      <td>NaN</td>\n",
       "      <td>NaN</td>\n",
       "      <td>...</td>\n",
       "      <td>[OrderedDict([('@level', '21'), ('@value', 'No...</td>\n",
       "      <td>[OrderedDict([('@numplayers', '1'), ('result',...</td>\n",
       "      <td>[OrderedDict([('@value', '2'), ('@numvotes', '...</td>\n",
       "      <td>https://cf.geekdo-images.com/thumb/img/iPlTR5c...</td>\n",
       "      <td>1806</td>\n",
       "      <td>boardgame</td>\n",
       "      <td>68284</td>\n",
       "      <td>571</td>\n",
       "      <td>6703</td>\n",
       "      <td>2008</td>\n",
       "    </tr>\n",
       "  </tbody>\n",
       "</table>\n",
       "<p>5 rows × 56 columns</p>\n",
       "</div>"
      ],
      "text/plain": [
       "   Unnamed: 0  Abstract Game Rank  Accessory Rank  Amiga Rank  Arcade Rank  \\\n",
       "0           0                 NaN             NaN         NaN          NaN   \n",
       "1           1                 NaN             NaN         NaN          NaN   \n",
       "2           2                 NaN             NaN         NaN          NaN   \n",
       "3           3                 NaN             NaN         NaN          NaN   \n",
       "4           4                 NaN             NaN         NaN          NaN   \n",
       "\n",
       "   Atari ST Rank Board Game Rank  Children's Game Rank  Commodore 64 Rank  \\\n",
       "0            NaN             327                   NaN                NaN   \n",
       "1            NaN             151                   NaN                NaN   \n",
       "2            NaN              74                   NaN                NaN   \n",
       "3            NaN              45                   NaN                NaN   \n",
       "4            NaN              76                   NaN                NaN   \n",
       "\n",
       "   Customizable Rank  ...                      suggested_language_dependence  \\\n",
       "0                NaN  ...  [OrderedDict([('@level', '36'), ('@value', 'No...   \n",
       "1                NaN  ...  [OrderedDict([('@level', '1'), ('@value', 'No ...   \n",
       "2                NaN  ...  [OrderedDict([('@level', '21'), ('@value', 'No...   \n",
       "3                NaN  ...  [OrderedDict([('@level', '1'), ('@value', 'No ...   \n",
       "4                NaN  ...  [OrderedDict([('@level', '21'), ('@value', 'No...   \n",
       "\n",
       "                               suggested_num_players  \\\n",
       "0  [OrderedDict([('@numplayers', '1'), ('result',...   \n",
       "1  [OrderedDict([('@numplayers', '1'), ('result',...   \n",
       "2  [OrderedDict([('@numplayers', '1'), ('result',...   \n",
       "3  [OrderedDict([('@numplayers', '1'), ('result',...   \n",
       "4  [OrderedDict([('@numplayers', '1'), ('result',...   \n",
       "\n",
       "                                 suggested_playerage  \\\n",
       "0  [OrderedDict([('@value', '2'), ('@numvotes', '...   \n",
       "1  [OrderedDict([('@value', '2'), ('@numvotes', '...   \n",
       "2  [OrderedDict([('@value', '2'), ('@numvotes', '...   \n",
       "3  [OrderedDict([('@value', '2'), ('@numvotes', '...   \n",
       "4  [OrderedDict([('@value', '2'), ('@numvotes', '...   \n",
       "\n",
       "                                           thumbnail  trading       type  \\\n",
       "0  https://cf.geekdo-images.com/thumb/img/g8LvJsd...     1685  boardgame   \n",
       "1  https://cf.geekdo-images.com/thumb/img/kqE4YJS...     1477  boardgame   \n",
       "2  https://cf.geekdo-images.com/thumb/img/HEKrtpT...     1977  boardgame   \n",
       "3  https://cf.geekdo-images.com/thumb/img/Grz-qM9...     1162  boardgame   \n",
       "4  https://cf.geekdo-images.com/thumb/img/iPlTR5c...     1806  boardgame   \n",
       "\n",
       "   usersrated wanting  wishing  yearpublished  \n",
       "0       85332     453     4729           1995  \n",
       "1       85052     498     5403           2000  \n",
       "2       83486     614     7655           2008  \n",
       "3       69132    1029     9464           2010  \n",
       "4       68284     571     6703           2008  \n",
       "\n",
       "[5 rows x 56 columns]"
      ]
     },
     "execution_count": 441,
     "metadata": {},
     "output_type": "execute_result"
    }
   ],
   "source": [
    "metadata.head()"
   ]
  },
  {
   "cell_type": "code",
   "execution_count": 442,
   "metadata": {},
   "outputs": [
    {
     "name": "stdout",
     "output_type": "stream",
     "text": [
      "6.349483988747583\n"
     ]
    }
   ],
   "source": [
    "C = metadata['average'].mean()\n",
    "print(C)"
   ]
  },
  {
   "cell_type": "code",
   "execution_count": 443,
   "metadata": {},
   "outputs": [
    {
     "name": "stdout",
     "output_type": "stream",
     "text": [
      "1380.6000000000022\n"
     ]
    }
   ],
   "source": [
    "m = metadata['usersrated'].quantile(0.9)\n",
    "print(m)"
   ]
  },
  {
   "cell_type": "code",
   "execution_count": 444,
   "metadata": {},
   "outputs": [
    {
     "data": {
      "text/plain": [
       "(1707, 56)"
      ]
     },
     "execution_count": 444,
     "metadata": {},
     "output_type": "execute_result"
    }
   ],
   "source": [
    "q_games = metadata.copy().loc[metadata['usersrated']>=m]\n",
    "q_games.shape"
   ]
  },
  {
   "cell_type": "code",
   "execution_count": 445,
   "metadata": {},
   "outputs": [],
   "source": [
    "def WR(x, m=m, C=C):\n",
    "    v = x['usersrated']\n",
    "    R = x['average']\n",
    "    return(v/(v+m)*R) + (m/(m+v)*C)"
   ]
  },
  {
   "cell_type": "code",
   "execution_count": 446,
   "metadata": {},
   "outputs": [],
   "source": [
    "metadata['score'] = metadata.apply(WR, axis = 1)"
   ]
  },
  {
   "cell_type": "code",
   "execution_count": 447,
   "metadata": {},
   "outputs": [
    {
     "data": {
      "text/plain": [
       "0    7.177779\n",
       "1    7.408854\n",
       "2    7.617029\n",
       "3    7.753148\n",
       "4    7.619032\n",
       "Name: score, dtype: float64"
      ]
     },
     "execution_count": 447,
     "metadata": {},
     "output_type": "execute_result"
    }
   ],
   "source": [
    "metadata['score'].head()"
   ]
  },
  {
   "cell_type": "code",
   "execution_count": 448,
   "metadata": {},
   "outputs": [],
   "source": [
    "col = ['primary','average','usersrated','score']\n",
    "rs_original = metadata.sort_values('average', ascending = False)[col]\n",
    "rs_new = metadata.sort_values('usersrated', ascending = False)[col]"
   ]
  },
  {
   "cell_type": "code",
   "execution_count": 449,
   "metadata": {
    "scrolled": true
   },
   "outputs": [
    {
     "data": {
      "text/html": [
       "<div>\n",
       "<style scoped>\n",
       "    .dataframe tbody tr th:only-of-type {\n",
       "        vertical-align: middle;\n",
       "    }\n",
       "\n",
       "    .dataframe tbody tr th {\n",
       "        vertical-align: top;\n",
       "    }\n",
       "\n",
       "    .dataframe thead th {\n",
       "        text-align: right;\n",
       "    }\n",
       "</style>\n",
       "<table border=\"1\" class=\"dataframe\">\n",
       "  <thead>\n",
       "    <tr style=\"text-align: right;\">\n",
       "      <th></th>\n",
       "      <th>primary</th>\n",
       "      <th>average</th>\n",
       "      <th>usersrated</th>\n",
       "      <th>score</th>\n",
       "    </tr>\n",
       "  </thead>\n",
       "  <tbody>\n",
       "    <tr>\n",
       "      <th>15890</th>\n",
       "      <td>Limbo: Eternal War</td>\n",
       "      <td>9.59714</td>\n",
       "      <td>35</td>\n",
       "      <td>6.429781</td>\n",
       "    </tr>\n",
       "    <tr>\n",
       "      <th>15968</th>\n",
       "      <td>Animator vs Animation</td>\n",
       "      <td>9.58823</td>\n",
       "      <td>34</td>\n",
       "      <td>6.427327</td>\n",
       "    </tr>\n",
       "    <tr>\n",
       "      <th>11309</th>\n",
       "      <td>TerroriXico</td>\n",
       "      <td>9.42857</td>\n",
       "      <td>70</td>\n",
       "      <td>6.498068</td>\n",
       "    </tr>\n",
       "    <tr>\n",
       "      <th>9369</th>\n",
       "      <td>Arena: The Contest</td>\n",
       "      <td>9.41089</td>\n",
       "      <td>101</td>\n",
       "      <td>6.558179</td>\n",
       "    </tr>\n",
       "    <tr>\n",
       "      <th>12845</th>\n",
       "      <td>Court of the Dead: Mourners Call</td>\n",
       "      <td>9.32426</td>\n",
       "      <td>54</td>\n",
       "      <td>6.461458</td>\n",
       "    </tr>\n",
       "  </tbody>\n",
       "</table>\n",
       "</div>"
      ],
      "text/plain": [
       "                                primary  average  usersrated     score\n",
       "15890                Limbo: Eternal War  9.59714          35  6.429781\n",
       "15968             Animator vs Animation  9.58823          34  6.427327\n",
       "11309                       TerroriXico  9.42857          70  6.498068\n",
       "9369                 Arena: The Contest  9.41089         101  6.558179\n",
       "12845  Court of the Dead: Mourners Call  9.32426          54  6.461458"
      ]
     },
     "execution_count": 449,
     "metadata": {},
     "output_type": "execute_result"
    }
   ],
   "source": [
    "rs_original.head()"
   ]
  },
  {
   "cell_type": "code",
   "execution_count": 450,
   "metadata": {},
   "outputs": [
    {
     "data": {
      "text/html": [
       "<div>\n",
       "<style scoped>\n",
       "    .dataframe tbody tr th:only-of-type {\n",
       "        vertical-align: middle;\n",
       "    }\n",
       "\n",
       "    .dataframe tbody tr th {\n",
       "        vertical-align: top;\n",
       "    }\n",
       "\n",
       "    .dataframe thead th {\n",
       "        text-align: right;\n",
       "    }\n",
       "</style>\n",
       "<table border=\"1\" class=\"dataframe\">\n",
       "  <thead>\n",
       "    <tr style=\"text-align: right;\">\n",
       "      <th></th>\n",
       "      <th>primary</th>\n",
       "      <th>average</th>\n",
       "      <th>usersrated</th>\n",
       "      <th>score</th>\n",
       "    </tr>\n",
       "  </thead>\n",
       "  <tbody>\n",
       "    <tr>\n",
       "      <th>0</th>\n",
       "      <td>Catan</td>\n",
       "      <td>7.19118</td>\n",
       "      <td>85332</td>\n",
       "      <td>7.177779</td>\n",
       "    </tr>\n",
       "    <tr>\n",
       "      <th>1</th>\n",
       "      <td>Carcassonne</td>\n",
       "      <td>7.42605</td>\n",
       "      <td>85052</td>\n",
       "      <td>7.408854</td>\n",
       "    </tr>\n",
       "    <tr>\n",
       "      <th>2</th>\n",
       "      <td>Pandemic</td>\n",
       "      <td>7.63799</td>\n",
       "      <td>83486</td>\n",
       "      <td>7.617029</td>\n",
       "    </tr>\n",
       "    <tr>\n",
       "      <th>3</th>\n",
       "      <td>7 Wonders</td>\n",
       "      <td>7.78118</td>\n",
       "      <td>69132</td>\n",
       "      <td>7.753148</td>\n",
       "    </tr>\n",
       "    <tr>\n",
       "      <th>4</th>\n",
       "      <td>Dominion</td>\n",
       "      <td>7.64470</td>\n",
       "      <td>68284</td>\n",
       "      <td>7.619032</td>\n",
       "    </tr>\n",
       "  </tbody>\n",
       "</table>\n",
       "</div>"
      ],
      "text/plain": [
       "       primary  average  usersrated     score\n",
       "0        Catan  7.19118       85332  7.177779\n",
       "1  Carcassonne  7.42605       85052  7.408854\n",
       "2     Pandemic  7.63799       83486  7.617029\n",
       "3    7 Wonders  7.78118       69132  7.753148\n",
       "4     Dominion  7.64470       68284  7.619032"
      ]
     },
     "execution_count": 450,
     "metadata": {},
     "output_type": "execute_result"
    }
   ],
   "source": [
    "rs_new.head()"
   ]
  },
  {
   "cell_type": "code",
   "execution_count": 451,
   "metadata": {},
   "outputs": [
    {
     "data": {
      "text/plain": [
       "\"In Catan (formerly The Settlers of Catan), players try to be the dominant force on the island of Catan by building settlements, cities, and roads. On each turn dice are rolled to determine what resources the island produces. Players collect these resources (cards)&mdash;wood, grain, brick, sheep, or stone&mdash;to build up their civilizations to get to 10 victory points and win the game.&#10;&#10;Setup includes randomly placing large hexagonal tiles (each showing a resource or the desert) in a honeycomb shape and surrounding them with water tiles, some of which contain ports of exchange. Number disks, which will correspond to die rolls (two 6-sided dice are used), are placed on each resource tile. Each player is given two settlements (think: houses) and roads (sticks) which are, in turn, placed on intersections and borders of the resource tiles. Players collect a hand of resource cards based on which hex tiles their last-placed house is adjacent to. A robber pawn is placed on the desert tile.&#10;&#10;A turn consists of possibly playing a development card, rolling the dice, everyone (perhaps) collecting resource cards based on the roll and position of houses (or upgraded cities&mdash;think: hotels) unless a 7 is rolled, turning in resource cards (if possible and desired) for improvements, trading cards at a port, and trading resource cards with other players. If a 7 is rolled, the active player moves the robber to a new hex tile and steals resource cards from other players who have built structures adjacent to that tile.&#10;&#10;Points are accumulated by building settlements and cities, having the longest road and the largest army (from some of the development cards), and gathering certain development cards that simply award victory points. When a player has gathered 10 points (some of which may be held in secret), he announces his total and claims the win.&#10;&#10;Catan has won multiple awards and is one of the most popular games in recent history due to its amazing ability to appeal to experienced gamers as well as those new to the hobby.&#10;&#10;Die Siedler von Catan was originally published by KOSMOS and has gone through multiple editions. It was licensed by Mayfair and has undergone four editions as The Settlers of Catan. In 2015, it was formally renamed Catan to better represent itself as the core and base game of the Catan series. It has been re-published in two travel editions, portable edition and compact edition, as a special gallery edition (replaced in 2009 with a family edition), as an anniversary wooden edition, as a deluxe 3D collector's edition, in the basic Simply Catan, as a beginner version, and with an entirely new theme in Japan and Asia as Settlers of Catan: Rockman Edition. Numerous spin-offs and expansions have also been made for the game.&#10;&#10;\""
      ]
     },
     "execution_count": 451,
     "metadata": {},
     "output_type": "execute_result"
    }
   ],
   "source": [
    "metadata['description'][0]"
   ]
  },
  {
   "cell_type": "code",
   "execution_count": 453,
   "metadata": {},
   "outputs": [
    {
     "data": {
      "text/plain": [
       "0    In Catan (formerly The Settlers of Catan), pla...\n",
       "1    Carcassonne is a tile-placement game in which ...\n",
       "2    In Pandemic, several virulent diseases have br...\n",
       "3    You are the leader of one of the 7 great citie...\n",
       "4    (from the back of the box:)&#10;&#10;&quot;You...\n",
       "Name: description, dtype: object"
      ]
     },
     "execution_count": 453,
     "metadata": {},
     "output_type": "execute_result"
    }
   ],
   "source": [
    "metadata['description'].head()"
   ]
  },
  {
   "cell_type": "code",
   "execution_count": 454,
   "metadata": {},
   "outputs": [],
   "source": [
    "from sklearn.feature_extraction.text import TfidfVectorizer"
   ]
  },
  {
   "cell_type": "code",
   "execution_count": 455,
   "metadata": {},
   "outputs": [],
   "source": [
    "tfidf = TfidfVectorizer(stop_words = 'english')"
   ]
  },
  {
   "cell_type": "code",
   "execution_count": 457,
   "metadata": {},
   "outputs": [],
   "source": [
    "metadata.description = metadata.description.fillna('')"
   ]
  },
  {
   "cell_type": "code",
   "execution_count": 458,
   "metadata": {},
   "outputs": [
    {
     "data": {
      "text/plain": [
       "(17063, 61013)"
      ]
     },
     "execution_count": 458,
     "metadata": {},
     "output_type": "execute_result"
    }
   ],
   "source": [
    "tfidf_matrix = tfidf.fit_transform(metadata.description)\n",
    "tfidf_matrix.shape"
   ]
  },
  {
   "cell_type": "code",
   "execution_count": 459,
   "metadata": {},
   "outputs": [],
   "source": [
    "from sklearn.metrics.pairwise import linear_kernel"
   ]
  },
  {
   "cell_type": "code",
   "execution_count": 460,
   "metadata": {},
   "outputs": [],
   "source": [
    "cosine_sim = linear_kernel(tfidf_matrix, tfidf_matrix)"
   ]
  },
  {
   "cell_type": "code",
   "execution_count": 475,
   "metadata": {},
   "outputs": [
    {
     "data": {
      "text/plain": [
       "0          Catan\n",
       "1    Carcassonne\n",
       "2       Pandemic\n",
       "3      7 Wonders\n",
       "4       Dominion\n",
       "Name: primary, dtype: object"
      ]
     },
     "execution_count": 475,
     "metadata": {},
     "output_type": "execute_result"
    }
   ],
   "source": [
    "metadata['primary'].head()"
   ]
  },
  {
   "cell_type": "code",
   "execution_count": 476,
   "metadata": {},
   "outputs": [],
   "source": [
    "indices = pd.Series(metadata.index, index = metadata['primary']).drop_duplicates()"
   ]
  },
  {
   "cell_type": "code",
   "execution_count": 486,
   "metadata": {},
   "outputs": [],
   "source": [
    "def rs(primary, n=20, sim=cosine_sim):\n",
    "    idx = indices[primary]\n",
    "    sim_score = list(enumerate(cosine_sim[idx]))\n",
    "    sim_score = sorted(sim_score, key = lambda x: x[1], reverse = True)\n",
    "    sim_score = sim_score[1:(n+1)]\n",
    "    game_index = [i[0] for i in sim_score]\n",
    "    return metadata.primary.iloc[game_index]"
   ]
  },
  {
   "cell_type": "code",
   "execution_count": 487,
   "metadata": {},
   "outputs": [
    {
     "data": {
      "text/plain": [
       "array([0.12102405, 0.02744314, 0.08475298, ..., 0.01909818, 0.0364033 ,\n",
       "       0.02408288])"
      ]
     },
     "execution_count": 487,
     "metadata": {},
     "output_type": "execute_result"
    }
   ],
   "source": [
    "cosine_sim[3]"
   ]
  },
  {
   "cell_type": "code",
   "execution_count": 488,
   "metadata": {},
   "outputs": [
    {
     "data": {
      "text/plain": [
       "<17063x61013 sparse matrix of type '<class 'numpy.float64'>'\n",
       "\twith 1238011 stored elements in Compressed Sparse Row format>"
      ]
     },
     "execution_count": 488,
     "metadata": {},
     "output_type": "execute_result"
    }
   ],
   "source": [
    "tfidf_matrix"
   ]
  },
  {
   "cell_type": "code",
   "execution_count": 490,
   "metadata": {},
   "outputs": [
    {
     "data": {
      "text/plain": [
       "18                                      7 Wonders Duel\n",
       "7221                                       S-Evolution\n",
       "133      Through the Ages: A New Story of Civilization\n",
       "9721                                           Ohanami\n",
       "652                             Nations: The Dice Game\n",
       "16921                                         Zwickern\n",
       "117          Through the Ages: A Story of Civilization\n",
       "14101                                       Immortal 8\n",
       "8241                                        Monumental\n",
       "3444                                        Barbarossa\n",
       "2467                                     Zany Penguins\n",
       "1123                                    Tower of Babel\n",
       "15636                                     GUAR Fantasy\n",
       "14392                                    The Bark Side\n",
       "2674                                        Artificium\n",
       "763                                             Linko!\n",
       "2818                                      Guns & Steel\n",
       "4296                                   Phase 10 Master\n",
       "2417                                       Escalation!\n",
       "7429                         Guns & Steel: Renaissance\n",
       "Name: primary, dtype: object"
      ]
     },
     "execution_count": 490,
     "metadata": {},
     "output_type": "execute_result"
    }
   ],
   "source": [
    "rs('7 Wonders')"
   ]
  },
  {
   "cell_type": "markdown",
   "metadata": {},
   "source": [
    "# 딥러닝 기반 추천 시스템"
   ]
  },
  {
   "cell_type": "code",
   "execution_count": 11,
   "metadata": {},
   "outputs": [],
   "source": [
    "import surprise\n",
    "import pandas as pd\n",
    "import numpy as np"
   ]
  },
  {
   "cell_type": "code",
   "execution_count": 418,
   "metadata": {},
   "outputs": [],
   "source": [
    "game_rate = pd.read_csv('boardgamegeek-reviews/2019-05-02.csv')"
   ]
  },
  {
   "cell_type": "code",
   "execution_count": 4,
   "metadata": {},
   "outputs": [],
   "source": [
    "review = pd.read_csv('boardgamegeek-reviews/bgg-13m-reviews.csv')"
   ]
  },
  {
   "cell_type": "code",
   "execution_count": 5,
   "metadata": {},
   "outputs": [],
   "source": [
    "detail = pd.read_csv('boardgamegeek-reviews/games_detailed_info.csv')"
   ]
  },
  {
   "cell_type": "code",
   "execution_count": 7,
   "metadata": {
    "scrolled": false
   },
   "outputs": [
    {
     "data": {
      "text/html": [
       "<div>\n",
       "<style scoped>\n",
       "    .dataframe tbody tr th:only-of-type {\n",
       "        vertical-align: middle;\n",
       "    }\n",
       "\n",
       "    .dataframe tbody tr th {\n",
       "        vertical-align: top;\n",
       "    }\n",
       "\n",
       "    .dataframe thead th {\n",
       "        text-align: right;\n",
       "    }\n",
       "</style>\n",
       "<table border=\"1\" class=\"dataframe\">\n",
       "  <thead>\n",
       "    <tr style=\"text-align: right;\">\n",
       "      <th></th>\n",
       "      <th>ID</th>\n",
       "      <th>Name</th>\n",
       "      <th>Year</th>\n",
       "      <th>Rank</th>\n",
       "      <th>Average</th>\n",
       "      <th>Bayes average</th>\n",
       "      <th>Users rated</th>\n",
       "      <th>URL</th>\n",
       "      <th>Thumbnail</th>\n",
       "    </tr>\n",
       "  </thead>\n",
       "  <tbody>\n",
       "    <tr>\n",
       "      <th>0</th>\n",
       "      <td>174430</td>\n",
       "      <td>Gloomhaven</td>\n",
       "      <td>2017</td>\n",
       "      <td>1</td>\n",
       "      <td>8.90</td>\n",
       "      <td>8.611</td>\n",
       "      <td>24574</td>\n",
       "      <td>/boardgame/174430/gloomhaven</td>\n",
       "      <td>https://cf.geekdo-images.com/micro/img/8JYMPXd...</td>\n",
       "    </tr>\n",
       "    <tr>\n",
       "      <th>1</th>\n",
       "      <td>161936</td>\n",
       "      <td>Pandemic Legacy: Season 1</td>\n",
       "      <td>2015</td>\n",
       "      <td>2</td>\n",
       "      <td>8.64</td>\n",
       "      <td>8.489</td>\n",
       "      <td>30921</td>\n",
       "      <td>/boardgame/161936/pandemic-legacy-season-1</td>\n",
       "      <td>https://cf.geekdo-images.com/micro/img/KbAKyhb...</td>\n",
       "    </tr>\n",
       "    <tr>\n",
       "      <th>2</th>\n",
       "      <td>182028</td>\n",
       "      <td>Through the Ages: A New Story of Civilization</td>\n",
       "      <td>2015</td>\n",
       "      <td>3</td>\n",
       "      <td>8.53</td>\n",
       "      <td>8.258</td>\n",
       "      <td>15551</td>\n",
       "      <td>/boardgame/182028/through-ages-new-story-civil...</td>\n",
       "      <td>https://cf.geekdo-images.com/micro/img/APvZ_BY...</td>\n",
       "    </tr>\n",
       "    <tr>\n",
       "      <th>3</th>\n",
       "      <td>167791</td>\n",
       "      <td>Terraforming Mars</td>\n",
       "      <td>2016</td>\n",
       "      <td>4</td>\n",
       "      <td>8.40</td>\n",
       "      <td>8.242</td>\n",
       "      <td>38331</td>\n",
       "      <td>/boardgame/167791/terraforming-mars</td>\n",
       "      <td>https://cf.geekdo-images.com/micro/img/71v8jF5...</td>\n",
       "    </tr>\n",
       "    <tr>\n",
       "      <th>4</th>\n",
       "      <td>12333</td>\n",
       "      <td>Twilight Struggle</td>\n",
       "      <td>2005</td>\n",
       "      <td>5</td>\n",
       "      <td>8.33</td>\n",
       "      <td>8.175</td>\n",
       "      <td>34268</td>\n",
       "      <td>/boardgame/12333/twilight-struggle</td>\n",
       "      <td>https://cf.geekdo-images.com/micro/img/uStZr7_...</td>\n",
       "    </tr>\n",
       "  </tbody>\n",
       "</table>\n",
       "</div>"
      ],
      "text/plain": [
       "       ID                                           Name  Year  Rank  Average  \\\n",
       "0  174430                                     Gloomhaven  2017     1     8.90   \n",
       "1  161936                      Pandemic Legacy: Season 1  2015     2     8.64   \n",
       "2  182028  Through the Ages: A New Story of Civilization  2015     3     8.53   \n",
       "3  167791                              Terraforming Mars  2016     4     8.40   \n",
       "4   12333                              Twilight Struggle  2005     5     8.33   \n",
       "\n",
       "   Bayes average  Users rated  \\\n",
       "0          8.611        24574   \n",
       "1          8.489        30921   \n",
       "2          8.258        15551   \n",
       "3          8.242        38331   \n",
       "4          8.175        34268   \n",
       "\n",
       "                                                 URL  \\\n",
       "0                       /boardgame/174430/gloomhaven   \n",
       "1         /boardgame/161936/pandemic-legacy-season-1   \n",
       "2  /boardgame/182028/through-ages-new-story-civil...   \n",
       "3                /boardgame/167791/terraforming-mars   \n",
       "4                 /boardgame/12333/twilight-struggle   \n",
       "\n",
       "                                           Thumbnail  \n",
       "0  https://cf.geekdo-images.com/micro/img/8JYMPXd...  \n",
       "1  https://cf.geekdo-images.com/micro/img/KbAKyhb...  \n",
       "2  https://cf.geekdo-images.com/micro/img/APvZ_BY...  \n",
       "3  https://cf.geekdo-images.com/micro/img/71v8jF5...  \n",
       "4  https://cf.geekdo-images.com/micro/img/uStZr7_...  "
      ]
     },
     "execution_count": 7,
     "metadata": {},
     "output_type": "execute_result"
    }
   ],
   "source": [
    "rate.head()"
   ]
  },
  {
   "cell_type": "code",
   "execution_count": 8,
   "metadata": {
    "scrolled": true
   },
   "outputs": [
    {
     "data": {
      "text/html": [
       "<div>\n",
       "<style scoped>\n",
       "    .dataframe tbody tr th:only-of-type {\n",
       "        vertical-align: middle;\n",
       "    }\n",
       "\n",
       "    .dataframe tbody tr th {\n",
       "        vertical-align: top;\n",
       "    }\n",
       "\n",
       "    .dataframe thead th {\n",
       "        text-align: right;\n",
       "    }\n",
       "</style>\n",
       "<table border=\"1\" class=\"dataframe\">\n",
       "  <thead>\n",
       "    <tr style=\"text-align: right;\">\n",
       "      <th></th>\n",
       "      <th>Unnamed: 0</th>\n",
       "      <th>user</th>\n",
       "      <th>rating</th>\n",
       "      <th>comment</th>\n",
       "      <th>ID</th>\n",
       "      <th>name</th>\n",
       "    </tr>\n",
       "  </thead>\n",
       "  <tbody>\n",
       "    <tr>\n",
       "      <th>0</th>\n",
       "      <td>0</td>\n",
       "      <td>sidehacker</td>\n",
       "      <td>10.0</td>\n",
       "      <td>NaN</td>\n",
       "      <td>13</td>\n",
       "      <td>Catan</td>\n",
       "    </tr>\n",
       "    <tr>\n",
       "      <th>1</th>\n",
       "      <td>1</td>\n",
       "      <td>Varthlokkur</td>\n",
       "      <td>10.0</td>\n",
       "      <td>NaN</td>\n",
       "      <td>13</td>\n",
       "      <td>Catan</td>\n",
       "    </tr>\n",
       "    <tr>\n",
       "      <th>2</th>\n",
       "      <td>2</td>\n",
       "      <td>dougthonus</td>\n",
       "      <td>10.0</td>\n",
       "      <td>Currently, this sits on my list as my favorite...</td>\n",
       "      <td>13</td>\n",
       "      <td>Catan</td>\n",
       "    </tr>\n",
       "    <tr>\n",
       "      <th>3</th>\n",
       "      <td>3</td>\n",
       "      <td>cypar7</td>\n",
       "      <td>10.0</td>\n",
       "      <td>I know it says how many plays, but many, many ...</td>\n",
       "      <td>13</td>\n",
       "      <td>Catan</td>\n",
       "    </tr>\n",
       "    <tr>\n",
       "      <th>4</th>\n",
       "      <td>4</td>\n",
       "      <td>ssmooth</td>\n",
       "      <td>10.0</td>\n",
       "      <td>NaN</td>\n",
       "      <td>13</td>\n",
       "      <td>Catan</td>\n",
       "    </tr>\n",
       "  </tbody>\n",
       "</table>\n",
       "</div>"
      ],
      "text/plain": [
       "   Unnamed: 0         user  rating  \\\n",
       "0           0   sidehacker    10.0   \n",
       "1           1  Varthlokkur    10.0   \n",
       "2           2   dougthonus    10.0   \n",
       "3           3       cypar7    10.0   \n",
       "4           4      ssmooth    10.0   \n",
       "\n",
       "                                             comment  ID   name  \n",
       "0                                                NaN  13  Catan  \n",
       "1                                                NaN  13  Catan  \n",
       "2  Currently, this sits on my list as my favorite...  13  Catan  \n",
       "3  I know it says how many plays, but many, many ...  13  Catan  \n",
       "4                                                NaN  13  Catan  "
      ]
     },
     "execution_count": 8,
     "metadata": {},
     "output_type": "execute_result"
    }
   ],
   "source": [
    "review.head()"
   ]
  },
  {
   "cell_type": "code",
   "execution_count": 375,
   "metadata": {},
   "outputs": [
    {
     "data": {
      "text/plain": [
       "(13170073, 6)"
      ]
     },
     "execution_count": 375,
     "metadata": {},
     "output_type": "execute_result"
    }
   ],
   "source": [
    "review.shape"
   ]
  },
  {
   "cell_type": "code",
   "execution_count": 9,
   "metadata": {
    "scrolled": false
   },
   "outputs": [
    {
     "data": {
      "text/html": [
       "<div>\n",
       "<style scoped>\n",
       "    .dataframe tbody tr th:only-of-type {\n",
       "        vertical-align: middle;\n",
       "    }\n",
       "\n",
       "    .dataframe tbody tr th {\n",
       "        vertical-align: top;\n",
       "    }\n",
       "\n",
       "    .dataframe thead th {\n",
       "        text-align: right;\n",
       "    }\n",
       "</style>\n",
       "<table border=\"1\" class=\"dataframe\">\n",
       "  <thead>\n",
       "    <tr style=\"text-align: right;\">\n",
       "      <th></th>\n",
       "      <th>Unnamed: 0</th>\n",
       "      <th>Abstract Game Rank</th>\n",
       "      <th>Accessory Rank</th>\n",
       "      <th>Amiga Rank</th>\n",
       "      <th>Arcade Rank</th>\n",
       "      <th>Atari ST Rank</th>\n",
       "      <th>Board Game Rank</th>\n",
       "      <th>Children's Game Rank</th>\n",
       "      <th>Commodore 64 Rank</th>\n",
       "      <th>Customizable Rank</th>\n",
       "      <th>...</th>\n",
       "      <th>suggested_language_dependence</th>\n",
       "      <th>suggested_num_players</th>\n",
       "      <th>suggested_playerage</th>\n",
       "      <th>thumbnail</th>\n",
       "      <th>trading</th>\n",
       "      <th>type</th>\n",
       "      <th>usersrated</th>\n",
       "      <th>wanting</th>\n",
       "      <th>wishing</th>\n",
       "      <th>yearpublished</th>\n",
       "    </tr>\n",
       "  </thead>\n",
       "  <tbody>\n",
       "    <tr>\n",
       "      <th>0</th>\n",
       "      <td>0</td>\n",
       "      <td>NaN</td>\n",
       "      <td>NaN</td>\n",
       "      <td>NaN</td>\n",
       "      <td>NaN</td>\n",
       "      <td>NaN</td>\n",
       "      <td>327</td>\n",
       "      <td>NaN</td>\n",
       "      <td>NaN</td>\n",
       "      <td>NaN</td>\n",
       "      <td>...</td>\n",
       "      <td>[OrderedDict([('@level', '36'), ('@value', 'No...</td>\n",
       "      <td>[OrderedDict([('@numplayers', '1'), ('result',...</td>\n",
       "      <td>[OrderedDict([('@value', '2'), ('@numvotes', '...</td>\n",
       "      <td>https://cf.geekdo-images.com/thumb/img/g8LvJsd...</td>\n",
       "      <td>1685</td>\n",
       "      <td>boardgame</td>\n",
       "      <td>85332</td>\n",
       "      <td>453</td>\n",
       "      <td>4729</td>\n",
       "      <td>1995</td>\n",
       "    </tr>\n",
       "    <tr>\n",
       "      <th>1</th>\n",
       "      <td>1</td>\n",
       "      <td>NaN</td>\n",
       "      <td>NaN</td>\n",
       "      <td>NaN</td>\n",
       "      <td>NaN</td>\n",
       "      <td>NaN</td>\n",
       "      <td>151</td>\n",
       "      <td>NaN</td>\n",
       "      <td>NaN</td>\n",
       "      <td>NaN</td>\n",
       "      <td>...</td>\n",
       "      <td>[OrderedDict([('@level', '1'), ('@value', 'No ...</td>\n",
       "      <td>[OrderedDict([('@numplayers', '1'), ('result',...</td>\n",
       "      <td>[OrderedDict([('@value', '2'), ('@numvotes', '...</td>\n",
       "      <td>https://cf.geekdo-images.com/thumb/img/kqE4YJS...</td>\n",
       "      <td>1477</td>\n",
       "      <td>boardgame</td>\n",
       "      <td>85052</td>\n",
       "      <td>498</td>\n",
       "      <td>5403</td>\n",
       "      <td>2000</td>\n",
       "    </tr>\n",
       "    <tr>\n",
       "      <th>2</th>\n",
       "      <td>2</td>\n",
       "      <td>NaN</td>\n",
       "      <td>NaN</td>\n",
       "      <td>NaN</td>\n",
       "      <td>NaN</td>\n",
       "      <td>NaN</td>\n",
       "      <td>74</td>\n",
       "      <td>NaN</td>\n",
       "      <td>NaN</td>\n",
       "      <td>NaN</td>\n",
       "      <td>...</td>\n",
       "      <td>[OrderedDict([('@level', '21'), ('@value', 'No...</td>\n",
       "      <td>[OrderedDict([('@numplayers', '1'), ('result',...</td>\n",
       "      <td>[OrderedDict([('@value', '2'), ('@numvotes', '...</td>\n",
       "      <td>https://cf.geekdo-images.com/thumb/img/HEKrtpT...</td>\n",
       "      <td>1977</td>\n",
       "      <td>boardgame</td>\n",
       "      <td>83486</td>\n",
       "      <td>614</td>\n",
       "      <td>7655</td>\n",
       "      <td>2008</td>\n",
       "    </tr>\n",
       "    <tr>\n",
       "      <th>3</th>\n",
       "      <td>3</td>\n",
       "      <td>NaN</td>\n",
       "      <td>NaN</td>\n",
       "      <td>NaN</td>\n",
       "      <td>NaN</td>\n",
       "      <td>NaN</td>\n",
       "      <td>45</td>\n",
       "      <td>NaN</td>\n",
       "      <td>NaN</td>\n",
       "      <td>NaN</td>\n",
       "      <td>...</td>\n",
       "      <td>[OrderedDict([('@level', '1'), ('@value', 'No ...</td>\n",
       "      <td>[OrderedDict([('@numplayers', '1'), ('result',...</td>\n",
       "      <td>[OrderedDict([('@value', '2'), ('@numvotes', '...</td>\n",
       "      <td>https://cf.geekdo-images.com/thumb/img/Grz-qM9...</td>\n",
       "      <td>1162</td>\n",
       "      <td>boardgame</td>\n",
       "      <td>69132</td>\n",
       "      <td>1029</td>\n",
       "      <td>9464</td>\n",
       "      <td>2010</td>\n",
       "    </tr>\n",
       "    <tr>\n",
       "      <th>4</th>\n",
       "      <td>4</td>\n",
       "      <td>NaN</td>\n",
       "      <td>NaN</td>\n",
       "      <td>NaN</td>\n",
       "      <td>NaN</td>\n",
       "      <td>NaN</td>\n",
       "      <td>76</td>\n",
       "      <td>NaN</td>\n",
       "      <td>NaN</td>\n",
       "      <td>NaN</td>\n",
       "      <td>...</td>\n",
       "      <td>[OrderedDict([('@level', '21'), ('@value', 'No...</td>\n",
       "      <td>[OrderedDict([('@numplayers', '1'), ('result',...</td>\n",
       "      <td>[OrderedDict([('@value', '2'), ('@numvotes', '...</td>\n",
       "      <td>https://cf.geekdo-images.com/thumb/img/iPlTR5c...</td>\n",
       "      <td>1806</td>\n",
       "      <td>boardgame</td>\n",
       "      <td>68284</td>\n",
       "      <td>571</td>\n",
       "      <td>6703</td>\n",
       "      <td>2008</td>\n",
       "    </tr>\n",
       "  </tbody>\n",
       "</table>\n",
       "<p>5 rows × 56 columns</p>\n",
       "</div>"
      ],
      "text/plain": [
       "   Unnamed: 0  Abstract Game Rank  Accessory Rank  Amiga Rank  Arcade Rank  \\\n",
       "0           0                 NaN             NaN         NaN          NaN   \n",
       "1           1                 NaN             NaN         NaN          NaN   \n",
       "2           2                 NaN             NaN         NaN          NaN   \n",
       "3           3                 NaN             NaN         NaN          NaN   \n",
       "4           4                 NaN             NaN         NaN          NaN   \n",
       "\n",
       "   Atari ST Rank Board Game Rank  Children's Game Rank  Commodore 64 Rank  \\\n",
       "0            NaN             327                   NaN                NaN   \n",
       "1            NaN             151                   NaN                NaN   \n",
       "2            NaN              74                   NaN                NaN   \n",
       "3            NaN              45                   NaN                NaN   \n",
       "4            NaN              76                   NaN                NaN   \n",
       "\n",
       "   Customizable Rank  ...                      suggested_language_dependence  \\\n",
       "0                NaN  ...  [OrderedDict([('@level', '36'), ('@value', 'No...   \n",
       "1                NaN  ...  [OrderedDict([('@level', '1'), ('@value', 'No ...   \n",
       "2                NaN  ...  [OrderedDict([('@level', '21'), ('@value', 'No...   \n",
       "3                NaN  ...  [OrderedDict([('@level', '1'), ('@value', 'No ...   \n",
       "4                NaN  ...  [OrderedDict([('@level', '21'), ('@value', 'No...   \n",
       "\n",
       "                               suggested_num_players  \\\n",
       "0  [OrderedDict([('@numplayers', '1'), ('result',...   \n",
       "1  [OrderedDict([('@numplayers', '1'), ('result',...   \n",
       "2  [OrderedDict([('@numplayers', '1'), ('result',...   \n",
       "3  [OrderedDict([('@numplayers', '1'), ('result',...   \n",
       "4  [OrderedDict([('@numplayers', '1'), ('result',...   \n",
       "\n",
       "                                 suggested_playerage  \\\n",
       "0  [OrderedDict([('@value', '2'), ('@numvotes', '...   \n",
       "1  [OrderedDict([('@value', '2'), ('@numvotes', '...   \n",
       "2  [OrderedDict([('@value', '2'), ('@numvotes', '...   \n",
       "3  [OrderedDict([('@value', '2'), ('@numvotes', '...   \n",
       "4  [OrderedDict([('@value', '2'), ('@numvotes', '...   \n",
       "\n",
       "                                           thumbnail  trading       type  \\\n",
       "0  https://cf.geekdo-images.com/thumb/img/g8LvJsd...     1685  boardgame   \n",
       "1  https://cf.geekdo-images.com/thumb/img/kqE4YJS...     1477  boardgame   \n",
       "2  https://cf.geekdo-images.com/thumb/img/HEKrtpT...     1977  boardgame   \n",
       "3  https://cf.geekdo-images.com/thumb/img/Grz-qM9...     1162  boardgame   \n",
       "4  https://cf.geekdo-images.com/thumb/img/iPlTR5c...     1806  boardgame   \n",
       "\n",
       "   usersrated wanting  wishing  yearpublished  \n",
       "0       85332     453     4729           1995  \n",
       "1       85052     498     5403           2000  \n",
       "2       83486     614     7655           2008  \n",
       "3       69132    1029     9464           2010  \n",
       "4       68284     571     6703           2008  \n",
       "\n",
       "[5 rows x 56 columns]"
      ]
     },
     "execution_count": 9,
     "metadata": {},
     "output_type": "execute_result"
    }
   ],
   "source": [
    "detail.head()"
   ]
  },
  {
   "cell_type": "markdown",
   "metadata": {},
   "source": [
    "# Surprise를 통한 분석"
   ]
  },
  {
   "cell_type": "code",
   "execution_count": 52,
   "metadata": {},
   "outputs": [],
   "source": [
    "df_rt = pd.DataFrame(rate, columns = ['Name','Average','Users rated'])"
   ]
  },
  {
   "cell_type": "code",
   "execution_count": 53,
   "metadata": {},
   "outputs": [
    {
     "data": {
      "text/html": [
       "<div>\n",
       "<style scoped>\n",
       "    .dataframe tbody tr th:only-of-type {\n",
       "        vertical-align: middle;\n",
       "    }\n",
       "\n",
       "    .dataframe tbody tr th {\n",
       "        vertical-align: top;\n",
       "    }\n",
       "\n",
       "    .dataframe thead th {\n",
       "        text-align: right;\n",
       "    }\n",
       "</style>\n",
       "<table border=\"1\" class=\"dataframe\">\n",
       "  <thead>\n",
       "    <tr style=\"text-align: right;\">\n",
       "      <th></th>\n",
       "      <th>Name</th>\n",
       "      <th>Average</th>\n",
       "      <th>Users rated</th>\n",
       "    </tr>\n",
       "  </thead>\n",
       "  <tbody>\n",
       "    <tr>\n",
       "      <th>0</th>\n",
       "      <td>Gloomhaven</td>\n",
       "      <td>8.90</td>\n",
       "      <td>24574</td>\n",
       "    </tr>\n",
       "    <tr>\n",
       "      <th>1</th>\n",
       "      <td>Pandemic Legacy: Season 1</td>\n",
       "      <td>8.64</td>\n",
       "      <td>30921</td>\n",
       "    </tr>\n",
       "    <tr>\n",
       "      <th>2</th>\n",
       "      <td>Through the Ages: A New Story of Civilization</td>\n",
       "      <td>8.53</td>\n",
       "      <td>15551</td>\n",
       "    </tr>\n",
       "    <tr>\n",
       "      <th>3</th>\n",
       "      <td>Terraforming Mars</td>\n",
       "      <td>8.40</td>\n",
       "      <td>38331</td>\n",
       "    </tr>\n",
       "    <tr>\n",
       "      <th>4</th>\n",
       "      <td>Twilight Struggle</td>\n",
       "      <td>8.33</td>\n",
       "      <td>34268</td>\n",
       "    </tr>\n",
       "  </tbody>\n",
       "</table>\n",
       "</div>"
      ],
      "text/plain": [
       "                                            Name  Average  Users rated\n",
       "0                                     Gloomhaven     8.90        24574\n",
       "1                      Pandemic Legacy: Season 1     8.64        30921\n",
       "2  Through the Ages: A New Story of Civilization     8.53        15551\n",
       "3                              Terraforming Mars     8.40        38331\n",
       "4                              Twilight Struggle     8.33        34268"
      ]
     },
     "execution_count": 53,
     "metadata": {},
     "output_type": "execute_result"
    }
   ],
   "source": [
    "df_rt.head()"
   ]
  },
  {
   "cell_type": "code",
   "execution_count": 71,
   "metadata": {},
   "outputs": [],
   "source": [
    "df_rv = pd.DataFrame(review, columns = ['user','rating','name'])"
   ]
  },
  {
   "cell_type": "code",
   "execution_count": 56,
   "metadata": {},
   "outputs": [
    {
     "data": {
      "text/html": [
       "<div>\n",
       "<style scoped>\n",
       "    .dataframe tbody tr th:only-of-type {\n",
       "        vertical-align: middle;\n",
       "    }\n",
       "\n",
       "    .dataframe tbody tr th {\n",
       "        vertical-align: top;\n",
       "    }\n",
       "\n",
       "    .dataframe thead th {\n",
       "        text-align: right;\n",
       "    }\n",
       "</style>\n",
       "<table border=\"1\" class=\"dataframe\">\n",
       "  <thead>\n",
       "    <tr style=\"text-align: right;\">\n",
       "      <th></th>\n",
       "      <th>user</th>\n",
       "      <th>rating</th>\n",
       "      <th>name</th>\n",
       "    </tr>\n",
       "  </thead>\n",
       "  <tbody>\n",
       "    <tr>\n",
       "      <th>11831669</th>\n",
       "      <td>mjg821</td>\n",
       "      <td>7.0</td>\n",
       "      <td>How to Rob a Bank</td>\n",
       "    </tr>\n",
       "    <tr>\n",
       "      <th>6485728</th>\n",
       "      <td>Kermeur</td>\n",
       "      <td>8.0</td>\n",
       "      <td>Among the Stars</td>\n",
       "    </tr>\n",
       "    <tr>\n",
       "      <th>4290475</th>\n",
       "      <td>surlyduff</td>\n",
       "      <td>7.5</td>\n",
       "      <td>Zooloretto</td>\n",
       "    </tr>\n",
       "    <tr>\n",
       "      <th>10219887</th>\n",
       "      <td>Tolkana</td>\n",
       "      <td>5.0</td>\n",
       "      <td>Augsburg 1520</td>\n",
       "    </tr>\n",
       "    <tr>\n",
       "      <th>9076213</th>\n",
       "      <td>william4192</td>\n",
       "      <td>5.0</td>\n",
       "      <td>Oasis</td>\n",
       "    </tr>\n",
       "  </tbody>\n",
       "</table>\n",
       "</div>"
      ],
      "text/plain": [
       "                 user  rating               name\n",
       "11831669       mjg821     7.0  How to Rob a Bank\n",
       "6485728       Kermeur     8.0    Among the Stars\n",
       "4290475     surlyduff     7.5         Zooloretto\n",
       "10219887      Tolkana     5.0      Augsburg 1520\n",
       "9076213   william4192     5.0              Oasis"
      ]
     },
     "execution_count": 56,
     "metadata": {},
     "output_type": "execute_result"
    }
   ],
   "source": [
    "df_rv.head()"
   ]
  },
  {
   "cell_type": "code",
   "execution_count": 144,
   "metadata": {},
   "outputs": [],
   "source": [
    "df_rv_count = pd.value_counts(df_rv['user'].values, sort=True)"
   ]
  },
  {
   "cell_type": "code",
   "execution_count": 155,
   "metadata": {},
   "outputs": [],
   "source": [
    "count = pd.DataFrame({'user':df_rv_count.index, 'count':df_rv_count.values})"
   ]
  },
  {
   "cell_type": "code",
   "execution_count": 156,
   "metadata": {},
   "outputs": [
    {
     "data": {
      "text/html": [
       "<div>\n",
       "<style scoped>\n",
       "    .dataframe tbody tr th:only-of-type {\n",
       "        vertical-align: middle;\n",
       "    }\n",
       "\n",
       "    .dataframe tbody tr th {\n",
       "        vertical-align: top;\n",
       "    }\n",
       "\n",
       "    .dataframe thead th {\n",
       "        text-align: right;\n",
       "    }\n",
       "</style>\n",
       "<table border=\"1\" class=\"dataframe\">\n",
       "  <thead>\n",
       "    <tr style=\"text-align: right;\">\n",
       "      <th></th>\n",
       "      <th>user</th>\n",
       "      <th>count</th>\n",
       "    </tr>\n",
       "  </thead>\n",
       "  <tbody>\n",
       "    <tr>\n",
       "      <th>0</th>\n",
       "      <td>leffe dubbel</td>\n",
       "      <td>5939</td>\n",
       "    </tr>\n",
       "    <tr>\n",
       "      <th>1</th>\n",
       "      <td>Doel</td>\n",
       "      <td>4485</td>\n",
       "    </tr>\n",
       "    <tr>\n",
       "      <th>2</th>\n",
       "      <td>TomVasel</td>\n",
       "      <td>4258</td>\n",
       "    </tr>\n",
       "    <tr>\n",
       "      <th>3</th>\n",
       "      <td>Hessu68</td>\n",
       "      <td>4065</td>\n",
       "    </tr>\n",
       "    <tr>\n",
       "      <th>4</th>\n",
       "      <td>Walt Mulder</td>\n",
       "      <td>3868</td>\n",
       "    </tr>\n",
       "  </tbody>\n",
       "</table>\n",
       "</div>"
      ],
      "text/plain": [
       "           user  count\n",
       "0  leffe dubbel   5939\n",
       "1          Doel   4485\n",
       "2      TomVasel   4258\n",
       "3       Hessu68   4065\n",
       "4   Walt Mulder   3868"
      ]
     },
     "execution_count": 156,
     "metadata": {},
     "output_type": "execute_result"
    }
   ],
   "source": [
    "count.head()"
   ]
  },
  {
   "cell_type": "code",
   "execution_count": 382,
   "metadata": {},
   "outputs": [
    {
     "data": {
      "text/plain": [
       "(289913, 2)"
      ]
     },
     "execution_count": 382,
     "metadata": {},
     "output_type": "execute_result"
    }
   ],
   "source": [
    "count.shape"
   ]
  },
  {
   "cell_type": "code",
   "execution_count": 387,
   "metadata": {},
   "outputs": [
    {
     "data": {
      "text/plain": [
       "(13759, 276154)"
      ]
     },
     "execution_count": 387,
     "metadata": {},
     "output_type": "execute_result"
    }
   ],
   "source": [
    "c = 0\n",
    "r = 200\n",
    "for i in range(r):\n",
    "    a = np.shape(np.where(count['count'] == i+1))[1]\n",
    "    c = a+c\n",
    "u = np.shape(count)[0] - c\n",
    "u, c"
   ]
  },
  {
   "cell_type": "code",
   "execution_count": 388,
   "metadata": {},
   "outputs": [
    {
     "data": {
      "text/plain": [
       "user     Torsten\n",
       "count       1245\n",
       "Name: 199, dtype: object"
      ]
     },
     "execution_count": 388,
     "metadata": {},
     "output_type": "execute_result"
    }
   ],
   "source": [
    "count.iloc[199]"
   ]
  },
  {
   "cell_type": "code",
   "execution_count": 393,
   "metadata": {},
   "outputs": [],
   "source": [
    "X = count['user'][0:200]\n",
    "Y = count['count'][0:200]"
   ]
  },
  {
   "cell_type": "code",
   "execution_count": 394,
   "metadata": {
    "scrolled": true
   },
   "outputs": [
    {
     "data": {
      "text/plain": [
       "Text(0.5, 1.0, 'review count')"
      ]
     },
     "execution_count": 394,
     "metadata": {},
     "output_type": "execute_result"
    },
    {
     "data": {
      "image/png": "[encoded data removed]",
      "text/plain": [
       "<Figure size 1080x1080 with 1 Axes>"
      ]
     },
     "metadata": {
      "needs_background": "light"
     },
     "output_type": "display_data"
    }
   ],
   "source": [
    "plt.figure(figsize = (15,15))\n",
    "plt.plot(X, Y)\n",
    "plt.grid(False)\n",
    "plt.xlabel('user')\n",
    "plt.ylabel('count')\n",
    "plt.title('review count')"
   ]
  },
  {
   "cell_type": "code",
   "execution_count": 395,
   "metadata": {},
   "outputs": [],
   "source": [
    "df_rv_new = pd.merge(df_rv,X)"
   ]
  },
  {
   "cell_type": "code",
   "execution_count": 396,
   "metadata": {
    "scrolled": true
   },
   "outputs": [
    {
     "data": {
      "text/html": [
       "<div>\n",
       "<style scoped>\n",
       "    .dataframe tbody tr th:only-of-type {\n",
       "        vertical-align: middle;\n",
       "    }\n",
       "\n",
       "    .dataframe tbody tr th {\n",
       "        vertical-align: top;\n",
       "    }\n",
       "\n",
       "    .dataframe thead th {\n",
       "        text-align: right;\n",
       "    }\n",
       "</style>\n",
       "<table border=\"1\" class=\"dataframe\">\n",
       "  <thead>\n",
       "    <tr style=\"text-align: right;\">\n",
       "      <th></th>\n",
       "      <th>user</th>\n",
       "      <th>rating</th>\n",
       "      <th>name</th>\n",
       "    </tr>\n",
       "  </thead>\n",
       "  <tbody>\n",
       "    <tr>\n",
       "      <th>0</th>\n",
       "      <td>cypar7</td>\n",
       "      <td>10.0</td>\n",
       "      <td>Catan</td>\n",
       "    </tr>\n",
       "    <tr>\n",
       "      <th>1</th>\n",
       "      <td>cypar7</td>\n",
       "      <td>8.0</td>\n",
       "      <td>Carcassonne</td>\n",
       "    </tr>\n",
       "    <tr>\n",
       "      <th>2</th>\n",
       "      <td>cypar7</td>\n",
       "      <td>8.0</td>\n",
       "      <td>Pandemic</td>\n",
       "    </tr>\n",
       "    <tr>\n",
       "      <th>3</th>\n",
       "      <td>cypar7</td>\n",
       "      <td>8.0</td>\n",
       "      <td>7 Wonders</td>\n",
       "    </tr>\n",
       "    <tr>\n",
       "      <th>4</th>\n",
       "      <td>cypar7</td>\n",
       "      <td>6.0</td>\n",
       "      <td>Dominion</td>\n",
       "    </tr>\n",
       "  </tbody>\n",
       "</table>\n",
       "</div>"
      ],
      "text/plain": [
       "     user  rating         name\n",
       "0  cypar7    10.0        Catan\n",
       "1  cypar7     8.0  Carcassonne\n",
       "2  cypar7     8.0     Pandemic\n",
       "3  cypar7     8.0    7 Wonders\n",
       "4  cypar7     6.0     Dominion"
      ]
     },
     "execution_count": 396,
     "metadata": {},
     "output_type": "execute_result"
    }
   ],
   "source": [
    "df_rv_new.head()"
   ]
  },
  {
   "cell_type": "code",
   "execution_count": 397,
   "metadata": {},
   "outputs": [
    {
     "data": {
      "text/plain": [
       "(339300, 3)"
      ]
     },
     "execution_count": 397,
     "metadata": {},
     "output_type": "execute_result"
    }
   ],
   "source": [
    "df_rv_new.shape"
   ]
  },
  {
   "cell_type": "code",
   "execution_count": 398,
   "metadata": {},
   "outputs": [],
   "source": [
    "dt_rv_new = df_rv_new.set_index(['user','name']).unstack()"
   ]
  },
  {
   "cell_type": "code",
   "execution_count": 399,
   "metadata": {
    "scrolled": true
   },
   "outputs": [
    {
     "data": {
      "text/html": [
       "<div>\n",
       "<style scoped>\n",
       "    .dataframe tbody tr th:only-of-type {\n",
       "        vertical-align: middle;\n",
       "    }\n",
       "\n",
       "    .dataframe tbody tr th {\n",
       "        vertical-align: top;\n",
       "    }\n",
       "\n",
       "    .dataframe thead tr th {\n",
       "        text-align: left;\n",
       "    }\n",
       "\n",
       "    .dataframe thead tr:last-of-type th {\n",
       "        text-align: right;\n",
       "    }\n",
       "</style>\n",
       "<table border=\"1\" class=\"dataframe\">\n",
       "  <thead>\n",
       "    <tr>\n",
       "      <th></th>\n",
       "      <th colspan=\"10\" halign=\"left\">rating</th>\n",
       "    </tr>\n",
       "    <tr>\n",
       "      <th>name</th>\n",
       "      <th>\"La Garde recule!\"</th>\n",
       "      <th>\"Oh My God! There's An Axe In My Head.\" The Game of International Diplomacy</th>\n",
       "      <th>\"Scratch One Flat Top!\"</th>\n",
       "      <th>\"Tarleton's Quarter!\"</th>\n",
       "      <th>'65: Squad-Level Combat in the Jungles of Vietnam</th>\n",
       "      <th>*Star</th>\n",
       "      <th>...and then, we held hands.</th>\n",
       "      <th>...und tschüss!</th>\n",
       "      <th>.hack//ENEMY</th>\n",
       "      <th>007 James Bond: Live and Let Die</th>\n",
       "    </tr>\n",
       "    <tr>\n",
       "      <th>user</th>\n",
       "      <th></th>\n",
       "      <th></th>\n",
       "      <th></th>\n",
       "      <th></th>\n",
       "      <th></th>\n",
       "      <th></th>\n",
       "      <th></th>\n",
       "      <th></th>\n",
       "      <th></th>\n",
       "      <th></th>\n",
       "    </tr>\n",
       "  </thead>\n",
       "  <tbody>\n",
       "    <tr>\n",
       "      <th>Alan How</th>\n",
       "      <td></td>\n",
       "      <td></td>\n",
       "      <td></td>\n",
       "      <td></td>\n",
       "      <td></td>\n",
       "      <td></td>\n",
       "      <td></td>\n",
       "      <td></td>\n",
       "      <td></td>\n",
       "      <td>6</td>\n",
       "    </tr>\n",
       "    <tr>\n",
       "      <th>AnttiT</th>\n",
       "      <td></td>\n",
       "      <td></td>\n",
       "      <td></td>\n",
       "      <td></td>\n",
       "      <td></td>\n",
       "      <td></td>\n",
       "      <td></td>\n",
       "      <td></td>\n",
       "      <td></td>\n",
       "      <td></td>\n",
       "    </tr>\n",
       "    <tr>\n",
       "      <th>Arkeo</th>\n",
       "      <td></td>\n",
       "      <td></td>\n",
       "      <td></td>\n",
       "      <td></td>\n",
       "      <td></td>\n",
       "      <td></td>\n",
       "      <td></td>\n",
       "      <td></td>\n",
       "      <td></td>\n",
       "      <td></td>\n",
       "    </tr>\n",
       "    <tr>\n",
       "      <th>Baartoszz</th>\n",
       "      <td></td>\n",
       "      <td></td>\n",
       "      <td></td>\n",
       "      <td></td>\n",
       "      <td></td>\n",
       "      <td></td>\n",
       "      <td></td>\n",
       "      <td></td>\n",
       "      <td></td>\n",
       "      <td></td>\n",
       "    </tr>\n",
       "    <tr>\n",
       "      <th>Bagherra</th>\n",
       "      <td></td>\n",
       "      <td></td>\n",
       "      <td></td>\n",
       "      <td></td>\n",
       "      <td></td>\n",
       "      <td></td>\n",
       "      <td></td>\n",
       "      <td></td>\n",
       "      <td></td>\n",
       "      <td></td>\n",
       "    </tr>\n",
       "    <tr>\n",
       "      <th>Bankler</th>\n",
       "      <td></td>\n",
       "      <td></td>\n",
       "      <td></td>\n",
       "      <td></td>\n",
       "      <td></td>\n",
       "      <td></td>\n",
       "      <td></td>\n",
       "      <td></td>\n",
       "      <td></td>\n",
       "      <td></td>\n",
       "    </tr>\n",
       "    <tr>\n",
       "      <th>Bernhard N.</th>\n",
       "      <td></td>\n",
       "      <td></td>\n",
       "      <td></td>\n",
       "      <td></td>\n",
       "      <td></td>\n",
       "      <td></td>\n",
       "      <td></td>\n",
       "      <td>6</td>\n",
       "      <td></td>\n",
       "      <td></td>\n",
       "    </tr>\n",
       "    <tr>\n",
       "      <th>BeyondMonopoly</th>\n",
       "      <td></td>\n",
       "      <td></td>\n",
       "      <td></td>\n",
       "      <td></td>\n",
       "      <td></td>\n",
       "      <td>8</td>\n",
       "      <td>7</td>\n",
       "      <td></td>\n",
       "      <td></td>\n",
       "      <td></td>\n",
       "    </tr>\n",
       "    <tr>\n",
       "      <th>Bobby4th</th>\n",
       "      <td></td>\n",
       "      <td></td>\n",
       "      <td></td>\n",
       "      <td></td>\n",
       "      <td></td>\n",
       "      <td></td>\n",
       "      <td></td>\n",
       "      <td>5</td>\n",
       "      <td></td>\n",
       "      <td></td>\n",
       "    </tr>\n",
       "    <tr>\n",
       "      <th>Boltana</th>\n",
       "      <td></td>\n",
       "      <td></td>\n",
       "      <td></td>\n",
       "      <td></td>\n",
       "      <td></td>\n",
       "      <td></td>\n",
       "      <td>5</td>\n",
       "      <td></td>\n",
       "      <td></td>\n",
       "      <td></td>\n",
       "    </tr>\n",
       "  </tbody>\n",
       "</table>\n",
       "</div>"
      ],
      "text/plain": [
       "                           rating  \\\n",
       "name           \"La Garde recule!\"   \n",
       "user                                \n",
       "Alan How                            \n",
       "AnttiT                              \n",
       "Arkeo                               \n",
       "Baartoszz                           \n",
       "Bagherra                            \n",
       "Bankler                             \n",
       "Bernhard N.                         \n",
       "BeyondMonopoly                      \n",
       "Bobby4th                            \n",
       "Boltana                             \n",
       "\n",
       "                                                                                             \\\n",
       "name           \"Oh My God! There's An Axe In My Head.\" The Game of International Diplomacy    \n",
       "user                                                                                          \n",
       "Alan How                                                                                      \n",
       "AnttiT                                                                                        \n",
       "Arkeo                                                                                         \n",
       "Baartoszz                                                                                     \n",
       "Bagherra                                                                                      \n",
       "Bankler                                                                                       \n",
       "Bernhard N.                                                                                   \n",
       "BeyondMonopoly                                                                                \n",
       "Bobby4th                                                                                      \n",
       "Boltana                                                                                       \n",
       "\n",
       "                                                              \\\n",
       "name           \"Scratch One Flat Top!\" \"Tarleton's Quarter!\"   \n",
       "user                                                           \n",
       "Alan How                                                       \n",
       "AnttiT                                                         \n",
       "Arkeo                                                          \n",
       "Baartoszz                                                      \n",
       "Bagherra                                                       \n",
       "Bankler                                                        \n",
       "Bernhard N.                                                    \n",
       "BeyondMonopoly                                                 \n",
       "Bobby4th                                                       \n",
       "Boltana                                                        \n",
       "\n",
       "                                                                        \\\n",
       "name           '65: Squad-Level Combat in the Jungles of Vietnam *Star   \n",
       "user                                                                     \n",
       "Alan How                                                                 \n",
       "AnttiT                                                                   \n",
       "Arkeo                                                                    \n",
       "Baartoszz                                                                \n",
       "Bagherra                                                                 \n",
       "Bankler                                                                  \n",
       "Bernhard N.                                                              \n",
       "BeyondMonopoly                                                       8   \n",
       "Bobby4th                                                                 \n",
       "Boltana                                                                  \n",
       "\n",
       "                                                                         \\\n",
       "name           ...and then, we held hands. ...und tschüss! .hack//ENEMY   \n",
       "user                                                                      \n",
       "Alan How                                                                  \n",
       "AnttiT                                                                    \n",
       "Arkeo                                                                     \n",
       "Baartoszz                                                                 \n",
       "Bagherra                                                                  \n",
       "Bankler                                                                   \n",
       "Bernhard N.                                              6                \n",
       "BeyondMonopoly                           7                                \n",
       "Bobby4th                                                 5                \n",
       "Boltana                                  5                                \n",
       "\n",
       "                                                 \n",
       "name           007 James Bond: Live and Let Die  \n",
       "user                                             \n",
       "Alan How                                      6  \n",
       "AnttiT                                           \n",
       "Arkeo                                            \n",
       "Baartoszz                                        \n",
       "Bagherra                                         \n",
       "Bankler                                          \n",
       "Bernhard N.                                      \n",
       "BeyondMonopoly                                   \n",
       "Bobby4th                                         \n",
       "Boltana                                          "
      ]
     },
     "execution_count": 399,
     "metadata": {},
     "output_type": "execute_result"
    }
   ],
   "source": [
    "dt_rv_new.iloc[0:10, 0:10].fillna('')"
   ]
  },
  {
   "cell_type": "code",
   "execution_count": 400,
   "metadata": {},
   "outputs": [],
   "source": [
    "import matplotlib.pyplot as plt\n",
    "%matplotlib inline"
   ]
  },
  {
   "cell_type": "code",
   "execution_count": 401,
   "metadata": {
    "scrolled": true
   },
   "outputs": [
    {
     "data": {
      "text/plain": [
       "Text(0.5, 1.0, 'Rate Matrix')"
      ]
     },
     "execution_count": 401,
     "metadata": {},
     "output_type": "execute_result"
    },
    {
     "data": {
      "image/png": "[encoded data removed]",
      "text/plain": [
       "<Figure size 1080x1080 with 1 Axes>"
      ]
     },
     "metadata": {
      "needs_background": "light"
     },
     "output_type": "display_data"
    }
   ],
   "source": [
    "plt.figure(figsize = (15,15))\n",
    "plt.imshow(dt_rv_new)\n",
    "plt.grid(False)\n",
    "plt.xlabel('name')\n",
    "plt.ylabel('user')\n",
    "plt.title('Rate Matrix')"
   ]
  },
  {
   "cell_type": "code",
   "execution_count": 402,
   "metadata": {},
   "outputs": [],
   "source": [
    "from surprise import Reader\n",
    "from surprise import dataset\n",
    "\n",
    "\n",
    "reader = Reader(line_format='user item rating', rating_scale=(1, 5))\n",
    "\n",
    "# Also, a dummy Dataset class\n",
    "class MyDataset(dataset.DatasetAutoFolds):\n",
    "\n",
    "    def __init__(self, df, reader):\n",
    "\n",
    "        self.raw_ratings = [(uid, iid, r, None) for (uid, iid, r) in\n",
    "                            zip(df_rv_new['user'], df_rv_new['name'], df_rv_new['rating'])]\n",
    "        self.reader=reader\n",
    "\n",
    "data = MyDataset(df_rv_new, reader)"
   ]
  },
  {
   "cell_type": "code",
   "execution_count": 403,
   "metadata": {},
   "outputs": [],
   "source": [
    "from surprise.model_selection import KFold"
   ]
  },
  {
   "cell_type": "markdown",
   "metadata": {},
   "source": [
    "# 베이스 라인 모형 : ALS"
   ]
  },
  {
   "cell_type": "code",
   "execution_count": 404,
   "metadata": {},
   "outputs": [],
   "source": [
    "bsl_param = {'method':'als', 'n_epochs':5, 'reg_u':12, 'reg_l':5}\n",
    "model = surprise.BaselineOnly(bsl_options = bsl_param)"
   ]
  },
  {
   "cell_type": "code",
   "execution_count": 405,
   "metadata": {},
   "outputs": [
    {
     "name": "stdout",
     "output_type": "stream",
     "text": [
      "Estimating biases using als...\n",
      "RMSE: 2.0349\n",
      "Estimating biases using als...\n",
      "RMSE: 2.0343\n",
      "Estimating biases using als...\n",
      "RMSE: 2.0396\n"
     ]
    },
    {
     "data": {
      "text/plain": [
       "2.036252048627898"
      ]
     },
     "execution_count": 405,
     "metadata": {},
     "output_type": "execute_result"
    }
   ],
   "source": [
    "acc = np.zeros(3)\n",
    "cv = KFold(3)\n",
    "for i, (trainset, testset) in enumerate(cv.split(data)):\n",
    "    model.fit(trainset)\n",
    "    pred = model.test(testset)\n",
    "    acc[i] = surprise.accuracy.rmse(pred, verbose = True)\n",
    "acc.mean()"
   ]
  },
  {
   "cell_type": "code",
   "execution_count": 406,
   "metadata": {},
   "outputs": [
    {
     "name": "stdout",
     "output_type": "stream",
     "text": [
      "Estimating biases using als...\n",
      "Estimating biases using als...\n",
      "Estimating biases using als...\n",
      "Estimating biases using als...\n",
      "Estimating biases using als...\n"
     ]
    },
    {
     "data": {
      "text/plain": [
       "{'test_rmse': array([2.04322096, 2.03627254, 2.02821546, 2.03393971, 2.03628744]),\n",
       " 'test_mae': array([1.69983978, 1.69878406, 1.6876701 , 1.69531988, 1.69879832]),\n",
       " 'fit_time': (0.5166089534759521,\n",
       "  0.6074130535125732,\n",
       "  0.5874295234680176,\n",
       "  0.5624971389770508,\n",
       "  0.581427812576294),\n",
       " 'test_time': (0.2693021297454834,\n",
       "  0.25831055641174316,\n",
       "  1.211771011352539,\n",
       "  0.26631712913513184,\n",
       "  0.262300968170166)}"
      ]
     },
     "execution_count": 406,
     "metadata": {},
     "output_type": "execute_result"
    }
   ],
   "source": [
    "from surprise.model_selection import cross_validate\n",
    "cross_validate(model, data)"
   ]
  },
  {
   "cell_type": "markdown",
   "metadata": {},
   "source": [
    "# 베이스 라인 모형 : SGD"
   ]
  },
  {
   "cell_type": "code",
   "execution_count": 407,
   "metadata": {},
   "outputs": [],
   "source": [
    "bsl_param = {'method':'sgd', 'n_epochs':5, 'reg':0.02, 'learning_rate':0.005}\n",
    "model = surprise.BaselineOnly(bsl_options = bsl_param)"
   ]
  },
  {
   "cell_type": "code",
   "execution_count": 408,
   "metadata": {},
   "outputs": [
    {
     "name": "stdout",
     "output_type": "stream",
     "text": [
      "Estimating biases using sgd...\n",
      "RMSE: 2.0403\n",
      "Estimating biases using sgd...\n",
      "RMSE: 2.0386\n",
      "Estimating biases using sgd...\n",
      "RMSE: 2.0392\n"
     ]
    },
    {
     "data": {
      "text/plain": [
       "2.039345123155828"
      ]
     },
     "execution_count": 408,
     "metadata": {},
     "output_type": "execute_result"
    }
   ],
   "source": [
    "acc = np.zeros(3)\n",
    "cv = KFold(3)\n",
    "for i, (trainset, testset) in enumerate(cv.split(data)):\n",
    "    model.fit(trainset)\n",
    "    pred = model.test(testset)\n",
    "    acc[i] = surprise.accuracy.rmse(pred, verbose = True)\n",
    "acc.mean()"
   ]
  },
  {
   "cell_type": "code",
   "execution_count": 409,
   "metadata": {},
   "outputs": [
    {
     "name": "stdout",
     "output_type": "stream",
     "text": [
      "Estimating biases using sgd...\n",
      "Estimating biases using sgd...\n",
      "Estimating biases using sgd...\n",
      "Estimating biases using sgd...\n",
      "Estimating biases using sgd...\n"
     ]
    },
    {
     "data": {
      "text/plain": [
       "{'test_rmse': array([2.0383271 , 2.03931604, 2.04060498, 2.02852499, 2.04670251]),\n",
       " 'test_mae': array([1.69460291, 1.70214761, 1.7029315 , 1.69018983, 1.70377803]),\n",
       " 'fit_time': (0.3700239658355713,\n",
       "  0.44780898094177246,\n",
       "  0.4508175849914551,\n",
       "  0.4530069828033447,\n",
       "  0.4591944217681885),\n",
       " 'test_time': (1.1938002109527588,\n",
       "  0.25832247734069824,\n",
       "  0.25829291343688965,\n",
       "  0.25729942321777344,\n",
       "  0.26329874992370605)}"
      ]
     },
     "execution_count": 409,
     "metadata": {},
     "output_type": "execute_result"
    }
   ],
   "source": [
    "from surprise.model_selection import cross_validate\n",
    "cross_validate(model, data)"
   ]
  },
  {
   "cell_type": "markdown",
   "metadata": {},
   "source": [
    "# 이웃 기반 모형 : MSD"
   ]
  },
  {
   "cell_type": "code",
   "execution_count": 410,
   "metadata": {},
   "outputs": [
    {
     "name": "stdout",
     "output_type": "stream",
     "text": [
      "Computing the msd similarity matrix...\n",
      "Done computing similarity matrix.\n",
      "Computing the msd similarity matrix...\n",
      "Done computing similarity matrix.\n",
      "Computing the msd similarity matrix...\n",
      "Done computing similarity matrix.\n",
      "Computing the msd similarity matrix...\n",
      "Done computing similarity matrix.\n",
      "Computing the msd similarity matrix...\n",
      "Done computing similarity matrix.\n"
     ]
    },
    {
     "data": {
      "text/plain": [
       "1.7049351459356585"
      ]
     },
     "execution_count": 410,
     "metadata": {},
     "output_type": "execute_result"
    }
   ],
   "source": [
    "sim_options = {'name': 'msd'}\n",
    "algo = surprise.KNNBasic(sim_options=sim_options)\n",
    "cross_validate(algo, data)[\"test_mae\"].mean()"
   ]
  },
  {
   "cell_type": "markdown",
   "metadata": {},
   "source": [
    "# 이웃 기반 모형 : Cosine"
   ]
  },
  {
   "cell_type": "code",
   "execution_count": 411,
   "metadata": {},
   "outputs": [
    {
     "name": "stdout",
     "output_type": "stream",
     "text": [
      "Computing the cosine similarity matrix...\n",
      "Done computing similarity matrix.\n",
      "Computing the cosine similarity matrix...\n",
      "Done computing similarity matrix.\n",
      "Computing the cosine similarity matrix...\n",
      "Done computing similarity matrix.\n",
      "Computing the cosine similarity matrix...\n",
      "Done computing similarity matrix.\n",
      "Computing the cosine similarity matrix...\n",
      "Done computing similarity matrix.\n"
     ]
    },
    {
     "data": {
      "text/plain": [
       "1.7082812992252066"
      ]
     },
     "execution_count": 411,
     "metadata": {},
     "output_type": "execute_result"
    }
   ],
   "source": [
    "sim_options = {'name': 'cosine'}\n",
    "algo = surprise.KNNBasic(sim_options=sim_options)\n",
    "cross_validate(algo, data)[\"test_mae\"].mean()"
   ]
  },
  {
   "cell_type": "markdown",
   "metadata": {},
   "source": [
    "# 이웃 기반 모형 : Pearson"
   ]
  },
  {
   "cell_type": "code",
   "execution_count": 412,
   "metadata": {},
   "outputs": [
    {
     "name": "stdout",
     "output_type": "stream",
     "text": [
      "Computing the pearson similarity matrix...\n",
      "Done computing similarity matrix.\n",
      "Computing the pearson similarity matrix...\n",
      "Done computing similarity matrix.\n",
      "Computing the pearson similarity matrix...\n",
      "Done computing similarity matrix.\n",
      "Computing the pearson similarity matrix...\n",
      "Done computing similarity matrix.\n",
      "Computing the pearson similarity matrix...\n",
      "Done computing similarity matrix.\n"
     ]
    },
    {
     "data": {
      "text/plain": [
       "1.7073664932671115"
      ]
     },
     "execution_count": 412,
     "metadata": {},
     "output_type": "execute_result"
    }
   ],
   "source": [
    "sim_options = {'name': 'pearson'}\n",
    "algo = surprise.KNNBasic(sim_options=sim_options)\n",
    "cross_validate(algo, data)[\"test_mae\"].mean()"
   ]
  },
  {
   "cell_type": "markdown",
   "metadata": {},
   "source": [
    "# 이웃 기반 모형 : Pearson-Baseline"
   ]
  },
  {
   "cell_type": "code",
   "execution_count": 413,
   "metadata": {},
   "outputs": [
    {
     "name": "stdout",
     "output_type": "stream",
     "text": [
      "Estimating biases using als...\n",
      "Computing the pearson_baseline similarity matrix...\n",
      "Done computing similarity matrix.\n",
      "Estimating biases using als...\n",
      "Computing the pearson_baseline similarity matrix...\n",
      "Done computing similarity matrix.\n",
      "Estimating biases using als...\n",
      "Computing the pearson_baseline similarity matrix...\n",
      "Done computing similarity matrix.\n",
      "Estimating biases using als...\n",
      "Computing the pearson_baseline similarity matrix...\n",
      "Done computing similarity matrix.\n",
      "Estimating biases using als...\n",
      "Computing the pearson_baseline similarity matrix...\n",
      "Done computing similarity matrix.\n"
     ]
    },
    {
     "data": {
      "text/plain": [
       "1.7117925319345613"
      ]
     },
     "execution_count": 413,
     "metadata": {},
     "output_type": "execute_result"
    }
   ],
   "source": [
    "sim_options = {'name': 'pearson_baseline'}\n",
    "algo = surprise.KNNBasic(sim_options=sim_options)\n",
    "cross_validate(algo, data)[\"test_mae\"].mean()"
   ]
  },
  {
   "cell_type": "code",
   "execution_count": 414,
   "metadata": {},
   "outputs": [
    {
     "name": "stdout",
     "output_type": "stream",
     "text": [
      "Estimating biases using als...\n",
      "Computing the pearson_baseline similarity matrix...\n",
      "Done computing similarity matrix.\n",
      "Estimating biases using als...\n",
      "Computing the pearson_baseline similarity matrix...\n",
      "Done computing similarity matrix.\n",
      "Estimating biases using als...\n",
      "Computing the pearson_baseline similarity matrix...\n",
      "Done computing similarity matrix.\n",
      "Estimating biases using als...\n",
      "Computing the pearson_baseline similarity matrix...\n",
      "Done computing similarity matrix.\n",
      "Estimating biases using als...\n",
      "Computing the pearson_baseline similarity matrix...\n",
      "Done computing similarity matrix.\n"
     ]
    },
    {
     "data": {
      "text/plain": [
       "1.7015334732543823"
      ]
     },
     "execution_count": 414,
     "metadata": {},
     "output_type": "execute_result"
    }
   ],
   "source": [
    "sim_options = {'name': 'pearson_baseline'}\n",
    "algo = surprise.KNNWithMeans(sim_options=sim_options)\n",
    "cross_validate(algo, data)[\"test_mae\"].mean()"
   ]
  },
  {
   "cell_type": "code",
   "execution_count": 415,
   "metadata": {},
   "outputs": [
    {
     "name": "stdout",
     "output_type": "stream",
     "text": [
      "Estimating biases using als...\n",
      "Computing the pearson_baseline similarity matrix...\n",
      "Done computing similarity matrix.\n",
      "Estimating biases using als...\n",
      "Computing the pearson_baseline similarity matrix...\n",
      "Done computing similarity matrix.\n",
      "Estimating biases using als...\n",
      "Computing the pearson_baseline similarity matrix...\n",
      "Done computing similarity matrix.\n",
      "Estimating biases using als...\n",
      "Computing the pearson_baseline similarity matrix...\n",
      "Done computing similarity matrix.\n",
      "Estimating biases using als...\n",
      "Computing the pearson_baseline similarity matrix...\n",
      "Done computing similarity matrix.\n"
     ]
    },
    {
     "data": {
      "text/plain": [
       "1.7000620242203266"
      ]
     },
     "execution_count": 415,
     "metadata": {},
     "output_type": "execute_result"
    }
   ],
   "source": [
    "sim_options = {'name': 'pearson_baseline'}\n",
    "algo = surprise.KNNBaseline(sim_options=sim_options)\n",
    "cross_validate(algo, data)[\"test_mae\"].mean()"
   ]
  },
  {
   "cell_type": "markdown",
   "metadata": {},
   "source": [
    "# Latent Factor 모형 : SVD"
   ]
  },
  {
   "cell_type": "code",
   "execution_count": 416,
   "metadata": {},
   "outputs": [
    {
     "name": "stdout",
     "output_type": "stream",
     "text": [
      "Wall time: 1min 42s\n"
     ]
    },
    {
     "data": {
      "text/plain": [
       "1.6959303142045132"
      ]
     },
     "execution_count": 416,
     "metadata": {},
     "output_type": "execute_result"
    }
   ],
   "source": [
    "%%time\n",
    "algo = surprise.SVD(n_factors=100)\n",
    "cross_validate(algo, data)[\"test_mae\"].mean()"
   ]
  },
  {
   "cell_type": "markdown",
   "metadata": {},
   "source": [
    "# Latent Factor 모형 : NMF"
   ]
  },
  {
   "cell_type": "code",
   "execution_count": 417,
   "metadata": {},
   "outputs": [
    {
     "name": "stdout",
     "output_type": "stream",
     "text": [
      "Wall time: 4min 32s\n"
     ]
    },
    {
     "data": {
      "text/plain": [
       "1.7035452366356174"
      ]
     },
     "execution_count": 417,
     "metadata": {},
     "output_type": "execute_result"
    }
   ],
   "source": [
    "%%time\n",
    "algo = surprise.NMF(n_factors=100)\n",
    "cross_validate(algo, data)[\"test_mae\"].mean()"
   ]
  },
  {
   "cell_type": "markdown",
   "metadata": {},
   "source": [
    "# fastai를 이용한 추천 시스템"
   ]
  },
  {
   "cell_type": "code",
   "execution_count": 492,
   "metadata": {},
   "outputs": [
    {
     "ename": "DistributionNotFound",
     "evalue": "The 'fastprogress>=0.1.19' distribution was not found and is required by the application",
     "output_type": "error",
     "traceback": [
      "\u001b[1;31m---------------------------------------------------------------------------\u001b[0m",
      "\u001b[1;31mDistributionNotFound\u001b[0m                      Traceback (most recent call last)",
      "\u001b[1;32m<ipython-input-492-d118c0141560>\u001b[0m in \u001b[0;36m<module>\u001b[1;34m\u001b[0m\n\u001b[0;32m      2\u001b[0m \u001b[1;32mimport\u001b[0m \u001b[0mpickle\u001b[0m\u001b[1;33m\u001b[0m\u001b[1;33m\u001b[0m\u001b[0m\n\u001b[0;32m      3\u001b[0m \u001b[1;32mimport\u001b[0m \u001b[0mnumpy\u001b[0m \u001b[1;32mas\u001b[0m \u001b[0mnp\u001b[0m\u001b[1;33m\u001b[0m\u001b[1;33m\u001b[0m\u001b[0m\n\u001b[1;32m----> 4\u001b[1;33m \u001b[1;32mfrom\u001b[0m \u001b[0mfastai\u001b[0m\u001b[1;33m.\u001b[0m\u001b[0mcollab\u001b[0m \u001b[1;32mimport\u001b[0m \u001b[1;33m*\u001b[0m\u001b[1;33m\u001b[0m\u001b[1;33m\u001b[0m\u001b[0m\n\u001b[0m\u001b[0;32m      5\u001b[0m \u001b[1;32mfrom\u001b[0m \u001b[0mpprint\u001b[0m \u001b[1;32mimport\u001b[0m \u001b[0mpprint\u001b[0m\u001b[1;33m\u001b[0m\u001b[1;33m\u001b[0m\u001b[0m\n\u001b[0;32m      6\u001b[0m \u001b[1;32mimport\u001b[0m \u001b[0mmatplotlib\u001b[0m\u001b[1;33m.\u001b[0m\u001b[0mpyplot\u001b[0m \u001b[1;32mas\u001b[0m \u001b[0mplt\u001b[0m\u001b[1;33m\u001b[0m\u001b[1;33m\u001b[0m\u001b[0m\n",
      "\u001b[1;32m~\\.conda\\envs\\keras\\lib\\site-packages\\fastai\\collab.py\u001b[0m in \u001b[0;36m<module>\u001b[1;34m\u001b[0m\n\u001b[0;32m      1\u001b[0m \u001b[1;34m\"Module support for Collaborative Filtering\"\u001b[0m\u001b[1;33m\u001b[0m\u001b[1;33m\u001b[0m\u001b[0m\n\u001b[1;32m----> 2\u001b[1;33m \u001b[1;32mfrom\u001b[0m \u001b[1;33m.\u001b[0m\u001b[0mtabular\u001b[0m \u001b[1;32mimport\u001b[0m \u001b[1;33m*\u001b[0m\u001b[1;33m\u001b[0m\u001b[1;33m\u001b[0m\u001b[0m\n\u001b[0m\u001b[0;32m      3\u001b[0m \u001b[1;32mfrom\u001b[0m \u001b[1;33m.\u001b[0m \u001b[1;32mimport\u001b[0m \u001b[0mtabular\u001b[0m\u001b[1;33m\u001b[0m\u001b[1;33m\u001b[0m\u001b[0m\n\u001b[0;32m      4\u001b[0m \u001b[1;33m\u001b[0m\u001b[0m\n\u001b[0;32m      5\u001b[0m __all__ = [*tabular.__all__, 'EmbeddingDotBias', 'EmbeddingNN', 'collab_learner', 'CollabDataBunch', 'CollabLine',\n",
      "\u001b[1;32m~\\.conda\\envs\\keras\\lib\\site-packages\\fastai\\tabular\\__init__.py\u001b[0m in \u001b[0;36m<module>\u001b[1;34m\u001b[0m\n\u001b[1;32m----> 1\u001b[1;33m \u001b[1;32mfrom\u001b[0m \u001b[1;33m.\u001b[0m\u001b[1;33m.\u001b[0m \u001b[1;32mimport\u001b[0m \u001b[0mbasics\u001b[0m\u001b[1;33m\u001b[0m\u001b[1;33m\u001b[0m\u001b[0m\n\u001b[0m\u001b[0;32m      2\u001b[0m \u001b[1;32mfrom\u001b[0m \u001b[1;33m.\u001b[0m\u001b[1;33m.\u001b[0m\u001b[0mbasics\u001b[0m \u001b[1;32mimport\u001b[0m \u001b[1;33m*\u001b[0m\u001b[1;33m\u001b[0m\u001b[1;33m\u001b[0m\u001b[0m\n\u001b[0;32m      3\u001b[0m \u001b[1;32mfrom\u001b[0m \u001b[1;33m.\u001b[0m\u001b[0mdata\u001b[0m \u001b[1;32mimport\u001b[0m \u001b[1;33m*\u001b[0m\u001b[1;33m\u001b[0m\u001b[1;33m\u001b[0m\u001b[0m\n\u001b[0;32m      4\u001b[0m \u001b[1;32mfrom\u001b[0m \u001b[1;33m.\u001b[0m\u001b[0mtransform\u001b[0m \u001b[1;32mimport\u001b[0m \u001b[1;33m*\u001b[0m\u001b[1;33m\u001b[0m\u001b[1;33m\u001b[0m\u001b[0m\n\u001b[0;32m      5\u001b[0m \u001b[1;32mfrom\u001b[0m \u001b[1;33m.\u001b[0m\u001b[0mmodels\u001b[0m \u001b[1;32mimport\u001b[0m \u001b[1;33m*\u001b[0m\u001b[1;33m\u001b[0m\u001b[1;33m\u001b[0m\u001b[0m\n",
      "\u001b[1;32m~\\.conda\\envs\\keras\\lib\\site-packages\\fastai\\basics.py\u001b[0m in \u001b[0;36m<module>\u001b[1;34m\u001b[0m\n\u001b[1;32m----> 1\u001b[1;33m \u001b[1;32mfrom\u001b[0m \u001b[1;33m.\u001b[0m\u001b[0mbasic_train\u001b[0m \u001b[1;32mimport\u001b[0m \u001b[1;33m*\u001b[0m\u001b[1;33m\u001b[0m\u001b[1;33m\u001b[0m\u001b[0m\n\u001b[0m\u001b[0;32m      2\u001b[0m \u001b[1;32mfrom\u001b[0m \u001b[1;33m.\u001b[0m\u001b[0mcallback\u001b[0m \u001b[1;32mimport\u001b[0m \u001b[1;33m*\u001b[0m\u001b[1;33m\u001b[0m\u001b[1;33m\u001b[0m\u001b[0m\n\u001b[0;32m      3\u001b[0m \u001b[1;32mfrom\u001b[0m \u001b[1;33m.\u001b[0m\u001b[0mcore\u001b[0m \u001b[1;32mimport\u001b[0m \u001b[1;33m*\u001b[0m\u001b[1;33m\u001b[0m\u001b[1;33m\u001b[0m\u001b[0m\n\u001b[0;32m      4\u001b[0m \u001b[1;32mfrom\u001b[0m \u001b[1;33m.\u001b[0m\u001b[0mbasic_data\u001b[0m \u001b[1;32mimport\u001b[0m \u001b[1;33m*\u001b[0m\u001b[1;33m\u001b[0m\u001b[1;33m\u001b[0m\u001b[0m\n\u001b[0;32m      5\u001b[0m \u001b[1;32mfrom\u001b[0m \u001b[1;33m.\u001b[0m\u001b[0mdata_block\u001b[0m \u001b[1;32mimport\u001b[0m \u001b[1;33m*\u001b[0m\u001b[1;33m\u001b[0m\u001b[1;33m\u001b[0m\u001b[0m\n",
      "\u001b[1;32m~\\.conda\\envs\\keras\\lib\\site-packages\\fastai\\basic_train.py\u001b[0m in \u001b[0;36m<module>\u001b[1;34m\u001b[0m\n\u001b[0;32m      1\u001b[0m \u001b[1;34m\"Provides basic training and validation with `Learner`\"\u001b[0m\u001b[1;33m\u001b[0m\u001b[1;33m\u001b[0m\u001b[0m\n\u001b[1;32m----> 2\u001b[1;33m \u001b[1;32mfrom\u001b[0m \u001b[1;33m.\u001b[0m\u001b[0mtorch_core\u001b[0m \u001b[1;32mimport\u001b[0m \u001b[1;33m*\u001b[0m\u001b[1;33m\u001b[0m\u001b[1;33m\u001b[0m\u001b[0m\n\u001b[0m\u001b[0;32m      3\u001b[0m \u001b[1;32mfrom\u001b[0m \u001b[1;33m.\u001b[0m\u001b[0mbasic_data\u001b[0m \u001b[1;32mimport\u001b[0m \u001b[1;33m*\u001b[0m\u001b[1;33m\u001b[0m\u001b[1;33m\u001b[0m\u001b[0m\n\u001b[0;32m      4\u001b[0m \u001b[1;32mfrom\u001b[0m \u001b[1;33m.\u001b[0m\u001b[0mcallback\u001b[0m \u001b[1;32mimport\u001b[0m \u001b[1;33m*\u001b[0m\u001b[1;33m\u001b[0m\u001b[1;33m\u001b[0m\u001b[0m\n\u001b[0;32m      5\u001b[0m \u001b[1;32mfrom\u001b[0m \u001b[1;33m.\u001b[0m\u001b[0mdata_block\u001b[0m \u001b[1;32mimport\u001b[0m \u001b[1;33m*\u001b[0m\u001b[1;33m\u001b[0m\u001b[1;33m\u001b[0m\u001b[0m\n",
      "\u001b[1;32m~\\.conda\\envs\\keras\\lib\\site-packages\\fastai\\torch_core.py\u001b[0m in \u001b[0;36m<module>\u001b[1;34m\u001b[0m\n\u001b[0;32m      1\u001b[0m \u001b[1;34m\"Utility functions to help deal with tensors\"\u001b[0m\u001b[1;33m\u001b[0m\u001b[1;33m\u001b[0m\u001b[0m\n\u001b[1;32m----> 2\u001b[1;33m \u001b[1;32mfrom\u001b[0m \u001b[1;33m.\u001b[0m\u001b[0mimports\u001b[0m\u001b[1;33m.\u001b[0m\u001b[0mtorch\u001b[0m \u001b[1;32mimport\u001b[0m \u001b[1;33m*\u001b[0m\u001b[1;33m\u001b[0m\u001b[1;33m\u001b[0m\u001b[0m\n\u001b[0m\u001b[0;32m      3\u001b[0m \u001b[1;32mfrom\u001b[0m \u001b[1;33m.\u001b[0m\u001b[0mcore\u001b[0m \u001b[1;32mimport\u001b[0m \u001b[1;33m*\u001b[0m\u001b[1;33m\u001b[0m\u001b[1;33m\u001b[0m\u001b[0m\n\u001b[0;32m      4\u001b[0m \u001b[1;32mfrom\u001b[0m \u001b[0mcollections\u001b[0m \u001b[1;32mimport\u001b[0m \u001b[0mOrderedDict\u001b[0m\u001b[1;33m\u001b[0m\u001b[1;33m\u001b[0m\u001b[0m\n\u001b[0;32m      5\u001b[0m \u001b[1;32mfrom\u001b[0m \u001b[0mtorch\u001b[0m\u001b[1;33m.\u001b[0m\u001b[0mnn\u001b[0m\u001b[1;33m.\u001b[0m\u001b[0mparallel\u001b[0m \u001b[1;32mimport\u001b[0m \u001b[0mDistributedDataParallel\u001b[0m\u001b[1;33m\u001b[0m\u001b[1;33m\u001b[0m\u001b[0m\n",
      "\u001b[1;32m~\\.conda\\envs\\keras\\lib\\site-packages\\fastai\\imports\\__init__.py\u001b[0m in \u001b[0;36m<module>\u001b[1;34m\u001b[0m\n\u001b[1;32m----> 1\u001b[1;33m \u001b[1;32mfrom\u001b[0m \u001b[1;33m.\u001b[0m\u001b[0mcore\u001b[0m \u001b[1;32mimport\u001b[0m \u001b[1;33m*\u001b[0m\u001b[1;33m\u001b[0m\u001b[1;33m\u001b[0m\u001b[0m\n\u001b[0m\u001b[0;32m      2\u001b[0m \u001b[1;32mfrom\u001b[0m \u001b[1;33m.\u001b[0m\u001b[0mtorch\u001b[0m \u001b[1;32mimport\u001b[0m \u001b[1;33m*\u001b[0m\u001b[1;33m\u001b[0m\u001b[1;33m\u001b[0m\u001b[0m\n",
      "\u001b[1;32m~\\.conda\\envs\\keras\\lib\\site-packages\\fastai\\imports\\core.py\u001b[0m in \u001b[0;36m<module>\u001b[1;34m\u001b[0m\n\u001b[0;32m     27\u001b[0m \u001b[1;33m\u001b[0m\u001b[0m\n\u001b[0;32m     28\u001b[0m \u001b[1;32mimport\u001b[0m \u001b[0mpkg_resources\u001b[0m\u001b[1;33m\u001b[0m\u001b[1;33m\u001b[0m\u001b[0m\n\u001b[1;32m---> 29\u001b[1;33m \u001b[0mpkg_resources\u001b[0m\u001b[1;33m.\u001b[0m\u001b[0mrequire\u001b[0m\u001b[1;33m(\u001b[0m\u001b[1;34m\"fastprogress>=0.1.19\"\u001b[0m\u001b[1;33m)\u001b[0m\u001b[1;33m\u001b[0m\u001b[1;33m\u001b[0m\u001b[0m\n\u001b[0m\u001b[0;32m     30\u001b[0m \u001b[1;32mfrom\u001b[0m \u001b[0mfastprogress\u001b[0m\u001b[1;33m.\u001b[0m\u001b[0mfastprogress\u001b[0m \u001b[1;32mimport\u001b[0m \u001b[0mmaster_bar\u001b[0m\u001b[1;33m,\u001b[0m \u001b[0mprogress_bar\u001b[0m\u001b[1;33m\u001b[0m\u001b[1;33m\u001b[0m\u001b[0m\n\u001b[0;32m     31\u001b[0m \u001b[1;33m\u001b[0m\u001b[0m\n",
      "\u001b[1;32m~\\.conda\\envs\\keras\\lib\\site-packages\\pkg_resources\\__init__.py\u001b[0m in \u001b[0;36mrequire\u001b[1;34m(self, *requirements)\u001b[0m\n\u001b[0;32m    898\u001b[0m         \u001b[0mincluded\u001b[0m\u001b[1;33m,\u001b[0m \u001b[0meven\u001b[0m \u001b[1;32mif\u001b[0m \u001b[0mthey\u001b[0m \u001b[0mwere\u001b[0m \u001b[0malready\u001b[0m \u001b[0mactivated\u001b[0m \u001b[1;32min\u001b[0m \u001b[0mthis\u001b[0m \u001b[0mworking\u001b[0m \u001b[0mset\u001b[0m\u001b[1;33m.\u001b[0m\u001b[1;33m\u001b[0m\u001b[1;33m\u001b[0m\u001b[0m\n\u001b[0;32m    899\u001b[0m         \"\"\"\n\u001b[1;32m--> 900\u001b[1;33m         \u001b[0mneeded\u001b[0m \u001b[1;33m=\u001b[0m \u001b[0mself\u001b[0m\u001b[1;33m.\u001b[0m\u001b[0mresolve\u001b[0m\u001b[1;33m(\u001b[0m\u001b[0mparse_requirements\u001b[0m\u001b[1;33m(\u001b[0m\u001b[0mrequirements\u001b[0m\u001b[1;33m)\u001b[0m\u001b[1;33m)\u001b[0m\u001b[1;33m\u001b[0m\u001b[1;33m\u001b[0m\u001b[0m\n\u001b[0m\u001b[0;32m    901\u001b[0m \u001b[1;33m\u001b[0m\u001b[0m\n\u001b[0;32m    902\u001b[0m         \u001b[1;32mfor\u001b[0m \u001b[0mdist\u001b[0m \u001b[1;32min\u001b[0m \u001b[0mneeded\u001b[0m\u001b[1;33m:\u001b[0m\u001b[1;33m\u001b[0m\u001b[1;33m\u001b[0m\u001b[0m\n",
      "\u001b[1;32m~\\.conda\\envs\\keras\\lib\\site-packages\\pkg_resources\\__init__.py\u001b[0m in \u001b[0;36mresolve\u001b[1;34m(self, requirements, env, installer, replace_conflicting, extras)\u001b[0m\n\u001b[0;32m    784\u001b[0m                     \u001b[1;32mif\u001b[0m \u001b[0mdist\u001b[0m \u001b[1;32mis\u001b[0m \u001b[1;32mNone\u001b[0m\u001b[1;33m:\u001b[0m\u001b[1;33m\u001b[0m\u001b[1;33m\u001b[0m\u001b[0m\n\u001b[0;32m    785\u001b[0m                         \u001b[0mrequirers\u001b[0m \u001b[1;33m=\u001b[0m \u001b[0mrequired_by\u001b[0m\u001b[1;33m.\u001b[0m\u001b[0mget\u001b[0m\u001b[1;33m(\u001b[0m\u001b[0mreq\u001b[0m\u001b[1;33m,\u001b[0m \u001b[1;32mNone\u001b[0m\u001b[1;33m)\u001b[0m\u001b[1;33m\u001b[0m\u001b[1;33m\u001b[0m\u001b[0m\n\u001b[1;32m--> 786\u001b[1;33m                         \u001b[1;32mraise\u001b[0m \u001b[0mDistributionNotFound\u001b[0m\u001b[1;33m(\u001b[0m\u001b[0mreq\u001b[0m\u001b[1;33m,\u001b[0m \u001b[0mrequirers\u001b[0m\u001b[1;33m)\u001b[0m\u001b[1;33m\u001b[0m\u001b[1;33m\u001b[0m\u001b[0m\n\u001b[0m\u001b[0;32m    787\u001b[0m                 \u001b[0mto_activate\u001b[0m\u001b[1;33m.\u001b[0m\u001b[0mappend\u001b[0m\u001b[1;33m(\u001b[0m\u001b[0mdist\u001b[0m\u001b[1;33m)\u001b[0m\u001b[1;33m\u001b[0m\u001b[1;33m\u001b[0m\u001b[0m\n\u001b[0;32m    788\u001b[0m             \u001b[1;32mif\u001b[0m \u001b[0mdist\u001b[0m \u001b[1;32mnot\u001b[0m \u001b[1;32min\u001b[0m \u001b[0mreq\u001b[0m\u001b[1;33m:\u001b[0m\u001b[1;33m\u001b[0m\u001b[1;33m\u001b[0m\u001b[0m\n",
      "\u001b[1;31mDistributionNotFound\u001b[0m: The 'fastprogress>=0.1.19' distribution was not found and is required by the application"
     ]
    }
   ],
   "source": [
    "import pandas as pd\n",
    "import pickle\n",
    "import numpy as np\n",
    "from fastai.collab import *\n",
    "from pprint import pprint\n",
    "import matplotlib.pyplot as plt\n",
    "import umap\n",
    "from scipy import stats\n",
    "from sklearn.neighbors import NearestNeighbors\n",
    "%matplotlib inline"
   ]
  },
  {
   "cell_type": "code",
   "execution_count": 419,
   "metadata": {},
   "outputs": [],
   "source": [
    "game_rate.describe()\n",
    "game_rate.sort_values('Users rated',ascending=False,inplace=True)\n",
    "game_rate.rename(index=str, columns={\"Bayes average\": \"Geekscore\",'Name':'name'}, inplace=True)"
   ]
  },
  {
   "cell_type": "code",
   "execution_count": 421,
   "metadata": {},
   "outputs": [
    {
     "name": "stdout",
     "output_type": "stream",
     "text": [
      "16735\n"
     ]
    }
   ],
   "source": [
    "games_by_all_users = review.groupby('name')['rating'].agg(['mean','count']).sort_values('mean',ascending=False)\n",
    "games_by_all_users['rank']=games_by_all_users.reset_index().index+1\n",
    "print(len(games_by_all_users))"
   ]
  },
  {
   "cell_type": "code",
   "execution_count": 422,
   "metadata": {},
   "outputs": [
    {
     "ename": "NameError",
     "evalue": "name 'CollabDataBunch' is not defined",
     "output_type": "error",
     "traceback": [
      "\u001b[1;31m---------------------------------------------------------------------------\u001b[0m",
      "\u001b[1;31mNameError\u001b[0m                                 Traceback (most recent call last)",
      "\u001b[1;32m<ipython-input-422-74ceebe11713>\u001b[0m in \u001b[0;36m<module>\u001b[1;34m\u001b[0m\n\u001b[1;32m----> 1\u001b[1;33m \u001b[0mdata_fa\u001b[0m \u001b[1;33m=\u001b[0m \u001b[0mCollabDataBunch\u001b[0m\u001b[1;33m.\u001b[0m\u001b[0mfrom_df\u001b[0m\u001b[1;33m(\u001b[0m\u001b[0mreviews\u001b[0m\u001b[1;33m,\u001b[0m \u001b[0muser_name\u001b[0m\u001b[1;33m=\u001b[0m\u001b[1;34m'user'\u001b[0m\u001b[1;33m,\u001b[0m\u001b[0mitem_name\u001b[0m\u001b[1;33m=\u001b[0m\u001b[1;34m'name'\u001b[0m\u001b[1;33m,\u001b[0m\u001b[0mrating_name\u001b[0m\u001b[1;33m=\u001b[0m\u001b[1;34m'rating'\u001b[0m\u001b[1;33m,\u001b[0m\u001b[0mbs\u001b[0m\u001b[1;33m=\u001b[0m\u001b[1;36m100000\u001b[0m\u001b[1;33m,\u001b[0m \u001b[0mseed\u001b[0m \u001b[1;33m=\u001b[0m \u001b[1;36m42\u001b[0m\u001b[1;33m)\u001b[0m\u001b[1;33m\u001b[0m\u001b[1;33m\u001b[0m\u001b[0m\n\u001b[0m\u001b[0;32m      2\u001b[0m \u001b[0mdata_fa\u001b[0m\u001b[1;33m.\u001b[0m\u001b[0mshow_batch\u001b[0m\u001b[1;33m(\u001b[0m\u001b[1;33m)\u001b[0m\u001b[1;33m\u001b[0m\u001b[1;33m\u001b[0m\u001b[0m\n",
      "\u001b[1;31mNameError\u001b[0m: name 'CollabDataBunch' is not defined"
     ]
    }
   ],
   "source": [
    "data_fa = CollabDataBunch.from_df(reviews, user_name='user',item_name='name',rating_name='rating',bs=100000, seed = 42)\n",
    "data_fa.show_batch()"
   ]
  },
  {
   "cell_type": "code",
   "execution_count": null,
   "metadata": {},
   "outputs": [],
   "source": []
  }
 ],
 "metadata": {
  "kernelspec": {
   "display_name": "keras",
   "language": "python",
   "name": "keras"
  },
  "language_info": {
   "codemirror_mode": {
    "name": "ipython",
    "version": 3
   },
   "file_extension": ".py",
   "mimetype": "text/x-python",
   "name": "python",
   "nbconvert_exporter": "python",
   "pygments_lexer": "ipython3",
   "version": "3.6.8"
  },
  "widgets": {
   "state": {},
   "version": "1.1.2"
  }
 },
 "nbformat": 4,
 "nbformat_minor": 2
}
